{
 "cells": [
  {
   "cell_type": "code",
   "execution_count": 71,
   "metadata": {},
   "outputs": [],
   "source": [
    "from gensim.models import Doc2Vec\n",
    "import smart_open\n",
    "from gensim.models.doc2vec import TaggedDocument\n",
    "\n",
    "import multiprocessing\n",
    "from tqdm import tqdm\n",
    "cores = multiprocessing.cpu_count()\n",
    "\n",
    "import numpy as np\n",
    "\n",
    "import pandas as pd\n",
    "df=pd.read_json(\"un_speeches_2019_labels.json\",orient='records',compression='infer')"
   ]
  },
  {
   "cell_type": "code",
   "execution_count": 72,
   "metadata": {},
   "outputs": [
    {
     "data": {
      "text/html": [
       "<div>\n",
       "<style scoped>\n",
       "    .dataframe tbody tr th:only-of-type {\n",
       "        vertical-align: middle;\n",
       "    }\n",
       "\n",
       "    .dataframe tbody tr th {\n",
       "        vertical-align: top;\n",
       "    }\n",
       "\n",
       "    .dataframe thead th {\n",
       "        text-align: right;\n",
       "    }\n",
       "</style>\n",
       "<table border=\"1\" class=\"dataframe\">\n",
       "  <thead>\n",
       "    <tr style=\"text-align: right;\">\n",
       "      <th></th>\n",
       "      <th>doc</th>\n",
       "      <th>Year</th>\n",
       "      <th>Session</th>\n",
       "      <th>ISO Code</th>\n",
       "      <th>Country</th>\n",
       "      <th>Name of Person Speaking</th>\n",
       "      <th>Post</th>\n",
       "      <th>Language</th>\n",
       "      <th>Notes</th>\n",
       "      <th>sent_split</th>\n",
       "      <th>word_split</th>\n",
       "      <th>count_speech_words</th>\n",
       "      <th>count_speech_sent</th>\n",
       "      <th>word_split_withoutgpe</th>\n",
       "      <th>labels</th>\n",
       "    </tr>\n",
       "  </thead>\n",
       "  <tbody>\n",
       "    <tr>\n",
       "      <th>78</th>\n",
       "      <td>It is a great honour for me to address the Gen...</td>\n",
       "      <td>2019</td>\n",
       "      <td>74</td>\n",
       "      <td>IND</td>\n",
       "      <td>Republic of India</td>\n",
       "      <td>Mr. Narendra Modi</td>\n",
       "      <td>Prime Minister</td>\n",
       "      <td>Hindi</td>\n",
       "      <td>English interpretation provided by the delegation</td>\n",
       "      <td>[It is a great honour for me to address the Ge...</td>\n",
       "      <td>[It, is, a, great, honour, for, me, to, addres...</td>\n",
       "      <td>1353</td>\n",
       "      <td>52</td>\n",
       "      <td>[It, is, a, great, honour, for, me, to, addres...</td>\n",
       "      <td>CLUSTER 7</td>\n",
       "    </tr>\n",
       "  </tbody>\n",
       "</table>\n",
       "</div>"
      ],
      "text/plain": [
       "                                                  doc  Year  Session ISO Code  \\\n",
       "78  It is a great honour for me to address the Gen...  2019       74      IND   \n",
       "\n",
       "              Country Name of Person Speaking            Post Language  \\\n",
       "78  Republic of India       Mr. Narendra Modi  Prime Minister    Hindi   \n",
       "\n",
       "                                                Notes  \\\n",
       "78  English interpretation provided by the delegation   \n",
       "\n",
       "                                           sent_split  \\\n",
       "78  [It is a great honour for me to address the Ge...   \n",
       "\n",
       "                                           word_split  count_speech_words  \\\n",
       "78  [It, is, a, great, honour, for, me, to, addres...                1353   \n",
       "\n",
       "    count_speech_sent                              word_split_withoutgpe  \\\n",
       "78                 52  [It, is, a, great, honour, for, me, to, addres...   \n",
       "\n",
       "       labels  \n",
       "78  CLUSTER 7  "
      ]
     },
     "execution_count": 72,
     "metadata": {},
     "output_type": "execute_result"
    }
   ],
   "source": [
    "df[df['ISO Code']==\"IND\"]"
   ]
  },
  {
   "cell_type": "code",
   "execution_count": 73,
   "metadata": {},
   "outputs": [
    {
     "name": "stderr",
     "output_type": "stream",
     "text": [
      "[nltk_data] Downloading package wordnet to C:\\Users\\Prakhar\n",
      "[nltk_data]     Gupta\\AppData\\Roaming\\nltk_data...\n",
      "[nltk_data]   Package wordnet is already up-to-date!\n"
     ]
    },
    {
     "data": {
      "text/plain": [
       "True"
      ]
     },
     "execution_count": 73,
     "metadata": {},
     "output_type": "execute_result"
    }
   ],
   "source": [
    "import gensim\n",
    "from gensim.utils import simple_preprocess\n",
    "from gensim.parsing.preprocessing import STOPWORDS\n",
    "from nltk.stem import WordNetLemmatizer, SnowballStemmer\n",
    "from nltk.stem.porter import *\n",
    "import numpy as np\n",
    "np.random.seed(42)\n",
    "import nltk\n",
    "nltk.download('wordnet')"
   ]
  },
  {
   "cell_type": "code",
   "execution_count": 74,
   "metadata": {},
   "outputs": [],
   "source": [
    "def lemmatize(text):\n",
    "    return WordNetLemmatizer().lemmatize(text, pos='v')"
   ]
  },
  {
   "cell_type": "code",
   "execution_count": 75,
   "metadata": {},
   "outputs": [
    {
     "data": {
      "text/plain": [
       "Index(['doc', 'Year', 'Session', 'ISO Code', 'Country',\n",
       "       'Name of Person Speaking', 'Post', 'Language', 'Notes', 'sent_split',\n",
       "       'word_split', 'count_speech_words', 'count_speech_sent',\n",
       "       'word_split_withoutgpe', 'labels'],\n",
       "      dtype='object')"
      ]
     },
     "execution_count": 75,
     "metadata": {},
     "output_type": "execute_result"
    }
   ],
   "source": [
    "df.columns"
   ]
  },
  {
   "cell_type": "code",
   "execution_count": 76,
   "metadata": {},
   "outputs": [],
   "source": [
    "stoppers=set(gensim.parsing.preprocessing.STOPWORDS)\n",
    "problem_specific=set([\"want\",'help','seek','home','please','hear','congratulations','reiterate','form','want','wish','happen','president','open','talk',\n",
    "                      'trust','general','assembly','let','convey','congratulate','thank','thanks','allow','Let','begin',' pleased','secretary-general'])\n",
    "stoppers=stoppers.union(problem_specific)"
   ]
  },
  {
   "cell_type": "code",
   "execution_count": 77,
   "metadata": {},
   "outputs": [],
   "source": [
    "def preprocess(text):\n",
    "    result = []\n",
    "    for token in text:\n",
    "        if token.lower() not in stoppers and len(token) > 3:\n",
    "            result.append(lemmatize(token))\n",
    "    return result"
   ]
  },
  {
   "cell_type": "code",
   "execution_count": 78,
   "metadata": {},
   "outputs": [],
   "source": [
    "df['clean_text']=df['word_split_withoutgpe'].apply(preprocess)"
   ]
  },
  {
   "cell_type": "code",
   "execution_count": 79,
   "metadata": {},
   "outputs": [
    {
     "data": {
      "text/plain": [
       "0      [honour, stand, prestigious, rostrum, today, r...\n",
       "1      [like, salute, present, important, rostrum, ho...\n",
       "2      [seven, decades, rostrum, raise, bear, weight,...\n",
       "3      [like, address, seventy-fourth, session, congr...\n",
       "4      [outset, like, seventy-fourth, session, Maria,...\n",
       "                             ...                        \n",
       "190    [Today, adopt, Political, Declaration, High-le...\n",
       "191    [behalf, people, Republic, sincerely, Tijjani,...\n",
       "192    [stand, deeply, move, coincidence, speak, foll...\n",
       "193    [join, previous, speakers, congratulate, Excel...\n",
       "194    [Tijjani, Muhammad-Bande, election, seventy-fo...\n",
       "Name: clean_text, Length: 195, dtype: object"
      ]
     },
     "execution_count": 79,
     "metadata": {},
     "output_type": "execute_result"
    }
   ],
   "source": [
    "df['clean_text']"
   ]
  },
  {
   "cell_type": "code",
   "execution_count": 80,
   "metadata": {},
   "outputs": [],
   "source": [
    "s=df['labels'].unique()"
   ]
  },
  {
   "cell_type": "code",
   "execution_count": 81,
   "metadata": {},
   "outputs": [],
   "source": [
    "import multiprocessing\n",
    "\n",
    "cores=multiprocessing.cpu_count()"
   ]
  },
  {
   "cell_type": "code",
   "execution_count": 82,
   "metadata": {},
   "outputs": [],
   "source": [
    "s[0:2]\n",
    "from gensim.models import CoherenceModel\n",
    "cluster_models={}"
   ]
  },
  {
   "cell_type": "code",
   "execution_count": 83,
   "metadata": {},
   "outputs": [],
   "source": [
    "log = open(\"LDA_results_2019.txt\",\"w\")\n",
    "file = log\n",
    "for i in s:\n",
    "    print(\"____________________________________________________________________________________\",file = log)\n",
    "    print(i,file = log)\n",
    "    cluster_models[i]={}\n",
    "    print(\"____________________________________________________________________________________\",file = log)\n",
    "    df1=df[df['labels']==i]\n",
    "    print(\"--------Countries-----\",file = log)\n",
    "    for ccc in df1['Country'].unique():\n",
    "        print(ccc,end=\"\\t\",file = log)\n",
    "    print(file = log)\n",
    "    cluster_models[i]['Country']=[i for i in df1['Country'].unique()]\n",
    "    cluster_models[i]['ISO Code']=[i for i in df1['ISO Code'].unique()]\n",
    "    print(\"-----------------------\",file = log)\n",
    "    processed_docs=df1['clean_text']\n",
    "#     print(processed_docs)\n",
    "    dictionary = gensim.corpora.Dictionary(processed_docs)\n",
    "    dictionary.filter_extremes(no_below=1, no_above=0.5, keep_n=100000)\n",
    "    bow_corpus = [dictionary.doc2bow(doc) for doc in processed_docs]\n",
    "#     print(bow_corpus)\n",
    "    \n",
    "    lda_model = gensim.models.LdaMulticore(bow_corpus, num_topics=3, id2word=dictionary, passes=4, workers=cores,random_state=1)\n",
    "    cluster_models[i]['model']=lda_model\n",
    "    for idx, topic in lda_model.print_topics(-1):\n",
    "        topi=str(topic)\n",
    "        cluster_models[i]['Topic: {}'.format(idx)]=topic\n",
    "        print('Topic: {}'.format(idx),file = log)\n",
    "        tt=topi.split(\"+\")\n",
    "        for n in tt:\n",
    "            n1=n.split(\"*\")\n",
    "            print(n1[0],n1[1],file = log)\n",
    "    coherence_model_lda = CoherenceModel(model=lda_model, texts=processed_docs, dictionary=dictionary, coherence='c_v')\n",
    "    coherence_lda = coherence_model_lda.get_coherence()\n",
    "    print('\\nCoherence Score: ', coherence_lda,file = log)\n",
    "    cluster_models[i]['Coherence Score']=coherence_lda\n",
    "    perplexity = lda_model.log_perplexity(bow_corpus)\n",
    "    print('\\nPerplexity Score: ', perplexity,file = log)\n",
    "    cluster_models[i]['Perplexity Score']=perplexity\n",
    "log.close()"
   ]
  },
  {
   "cell_type": "code",
   "execution_count": 84,
   "metadata": {},
   "outputs": [],
   "source": [
    "output=pd.DataFrame(cluster_models).transpose().reset_index()"
   ]
  },
  {
   "cell_type": "code",
   "execution_count": 85,
   "metadata": {},
   "outputs": [],
   "source": [
    "output=output.explode('ISO Code')"
   ]
  },
  {
   "cell_type": "code",
   "execution_count": 86,
   "metadata": {},
   "outputs": [
    {
     "data": {
      "text/plain": [
       "Index(['index', 'Country', 'ISO Code', 'model', 'Topic: 0', 'Topic: 1',\n",
       "       'Topic: 2', 'Coherence Score', 'Perplexity Score'],\n",
       "      dtype='object')"
      ]
     },
     "execution_count": 86,
     "metadata": {},
     "output_type": "execute_result"
    }
   ],
   "source": [
    "output.columns"
   ]
  },
  {
   "cell_type": "code",
   "execution_count": 87,
   "metadata": {},
   "outputs": [
    {
     "data": {
      "text/plain": [
       "index               object\n",
       "Country             object\n",
       "ISO Code            object\n",
       "model               object\n",
       "Topic: 0            object\n",
       "Topic: 1            object\n",
       "Topic: 2            object\n",
       "Coherence Score     object\n",
       "Perplexity Score    object\n",
       "dtype: object"
      ]
     },
     "execution_count": 87,
     "metadata": {},
     "output_type": "execute_result"
    }
   ],
   "source": [
    "output.dtypes"
   ]
  },
  {
   "cell_type": "code",
   "execution_count": 88,
   "metadata": {},
   "outputs": [],
   "source": [
    "import plotly.express as px\n",
    "\n"
   ]
  },
  {
   "cell_type": "code",
   "execution_count": 89,
   "metadata": {},
   "outputs": [],
   "source": [
    "def cleaner(x):\n",
    "    f=[]\n",
    "    y=x.split(\"+\")\n",
    "    for i in y:\n",
    "        ff=i.split(\"*\")\n",
    "        f.append(ff[1].replace('\"',''))\n",
    "    f=f[0:2]    \n",
    "    return f    "
   ]
  },
  {
   "cell_type": "code",
   "execution_count": 90,
   "metadata": {},
   "outputs": [],
   "source": [
    "def cleaner2(x):\n",
    "    f=[]\n",
    "    y=x.split(\"+\")\n",
    "    for i in y:\n",
    "        ff=i.split(\"*\")\n",
    "        f.append(ff[1].replace('\"',''))  \n",
    "    f=f[0:6]\n",
    "    return ','.join(f)"
   ]
  },
  {
   "cell_type": "code",
   "execution_count": 91,
   "metadata": {},
   "outputs": [],
   "source": [
    "output[\"Discussion1\"]=output['Topic: 0'].apply(cleaner)\n",
    "output[\"Discussion2\"]=output['Topic: 1'].apply(cleaner)\n",
    "output[\"Discussion3\"]=output['Topic: 2'].apply(cleaner)\n",
    "output[\"Major Topics 1\"]=output['Topic: 0'].apply(cleaner2)\n",
    "output[\"Major Topics 2\"]=output['Topic: 1'].apply(cleaner2)\n",
    "output[\"Major Topics 3\"]=output['Topic: 2'].apply(cleaner2)"
   ]
  },
  {
   "cell_type": "code",
   "execution_count": 92,
   "metadata": {},
   "outputs": [
    {
     "data": {
      "text/plain": [
       "0     [Afghan , SIDS ]\n",
       "0     [Afghan , SIDS ]\n",
       "0     [Afghan , SIDS ]\n",
       "0     [Afghan , SIDS ]\n",
       "0     [Afghan , SIDS ]\n",
       "            ...       \n",
       "13    [course , life ]\n",
       "13    [course , life ]\n",
       "13    [course , life ]\n",
       "13    [course , life ]\n",
       "13    [course , life ]\n",
       "Name: Discussion1, Length: 195, dtype: object"
      ]
     },
     "execution_count": 92,
     "metadata": {},
     "output_type": "execute_result"
    }
   ],
   "source": [
    "output[\"Discussion1\"]"
   ]
  },
  {
   "cell_type": "code",
   "execution_count": 93,
   "metadata": {},
   "outputs": [],
   "source": [
    "output[\"Discussion Topics\"]=output[\"Discussion1\"]+output[\"Discussion2\"]+output[\"Discussion3\"]"
   ]
  },
  {
   "cell_type": "code",
   "execution_count": 94,
   "metadata": {},
   "outputs": [],
   "source": [
    "output[\"Discussion Topics\"]=output[\"Discussion Topics\"].apply(set)\n",
    "# output[\"Discussion Topics\"]=output[\"Discussion Topics\"].apply(str)"
   ]
  },
  {
   "cell_type": "code",
   "execution_count": 95,
   "metadata": {},
   "outputs": [],
   "source": [
    "output[\"Discussion Topics\"]=[','.join(map(str, l)) for l in output['Discussion Topics']]"
   ]
  },
  {
   "cell_type": "code",
   "execution_count": 108,
   "metadata": {},
   "outputs": [
    {
     "data": {
      "text/plain": [
       "array(['Solomon ,Vanuatu ,SIDS ,Afghan ,Islands ',\n",
       "       'Nagorno ,health ,South ,school ,2020 ,region ',\n",
       "       'Cabo ,Mauritius ,Caribbean ,choose ,Tobago ',\n",
       "       'Marino ,technological ,Paraguay ,Democratic ,Africa ,participation ',\n",
       "       'brother ,crisis ,Africa ,Sahel ,Sudanese ,revolution ',\n",
       "       'Lanka ,protection ,like ,small ,transition ,European ',\n",
       "       'justice ,young ,democracy ,multilateralism ,listen ,military ',\n",
       "       'terrorism ,South ,fight ,Sahel ,rule ,nations ',\n",
       "       'Iranian ,Turkish ,militias ,regime ,Cyprus ,Israeli ',\n",
       "       'North ,Dushanbe ,neutrality ,drug ,European ,Kyrgyz ',\n",
       "       'Muslims ,Kashmir ,measure ,indigenous ,entire ,Republic ',\n",
       "       'know ,talk ,fight ,develop ,sustainability ,Africa ',\n",
       "       'Gabon ,Summit ,greater ,create ,threats ',\n",
       "       'course ,courage ,life ,nations ,care ,agenda '], dtype=object)"
      ]
     },
     "execution_count": 108,
     "metadata": {},
     "output_type": "execute_result"
    }
   ],
   "source": [
    "output[\"Discussion Topics\"].unique()"
   ]
  },
  {
   "cell_type": "code",
   "execution_count": 97,
   "metadata": {},
   "outputs": [],
   "source": [
    "output[\"Perplexity Score\"]=output[\"Perplexity Score\"].astype(float)\n",
    "output[\"Coherence Score\"]=output[\"Coherence Score\"].astype(float)"
   ]
  },
  {
   "cell_type": "code",
   "execution_count": 98,
   "metadata": {},
   "outputs": [],
   "source": [
    "color_seq = ['#AA0DFE',\n",
    "\n",
    " '#565656',\n",
    " '#1C8356',\n",
    " '#16FF32',\n",
    " '#F7E1A0',\n",
    " '#1CBE4F',\n",
    " '#C4451C',\n",
    " '#DEA0FD',\n",
    " '#FE00FA',\n",
    " '#325A9B',\n",
    " '#FEAF16',\n",
    " '#F8A19F',\n",
    " '#90AD1C',\n",
    " '#F6222E',\n",
    " '#1CFFCE',\n",
    " '#2ED9FF',\n",
    " '#B10DA1',\n",
    " '#C075A6',\n",
    " '#FC1CBF',\n",
    " '#B00068',\n",
    " '#FBE426',\n",
    " '#FA0087']\n"
   ]
  },
  {
   "cell_type": "code",
   "execution_count": 99,
   "metadata": {},
   "outputs": [
    {
     "data": {
      "application/vnd.plotly.v1+json": {
       "config": {
        "plotlyServerURL": "https://plot.ly"
       },
       "data": [
        {
         "colorscale": [
          [
           0,
           "#AA0DFE"
          ],
          [
           1,
           "#AA0DFE"
          ]
         ],
         "customdata": [
          [
           -8.220529901604925,
           "CLUSTER 9",
           0.3448962179131853,
           "Afghan ,SIDS ,Afghans ,vote ,emissions ,fish ",
           "Islands ,Vanuatu ,importance ,Marshall ,SDGs ,policy ",
           "Islands ,Solomon ,SIDS ,fish ,opportunities ,project "
          ],
          [
           -8.220529901604925,
           "CLUSTER 9",
           0.3448962179131853,
           "Afghan ,SIDS ,Afghans ,vote ,emissions ,fish ",
           "Islands ,Vanuatu ,importance ,Marshall ,SDGs ,policy ",
           "Islands ,Solomon ,SIDS ,fish ,opportunities ,project "
          ],
          [
           -8.220529901604925,
           "CLUSTER 9",
           0.3448962179131853,
           "Afghan ,SIDS ,Afghans ,vote ,emissions ,fish ",
           "Islands ,Vanuatu ,importance ,Marshall ,SDGs ,policy ",
           "Islands ,Solomon ,SIDS ,fish ,opportunities ,project "
          ],
          [
           -8.220529901604925,
           "CLUSTER 9",
           0.3448962179131853,
           "Afghan ,SIDS ,Afghans ,vote ,emissions ,fish ",
           "Islands ,Vanuatu ,importance ,Marshall ,SDGs ,policy ",
           "Islands ,Solomon ,SIDS ,fish ,opportunities ,project "
          ],
          [
           -8.220529901604925,
           "CLUSTER 9",
           0.3448962179131853,
           "Afghan ,SIDS ,Afghans ,vote ,emissions ,fish ",
           "Islands ,Vanuatu ,importance ,Marshall ,SDGs ,policy ",
           "Islands ,Solomon ,SIDS ,fish ,opportunities ,project "
          ],
          [
           -8.220529901604925,
           "CLUSTER 9",
           0.3448962179131853,
           "Afghan ,SIDS ,Afghans ,vote ,emissions ,fish ",
           "Islands ,Vanuatu ,importance ,Marshall ,SDGs ,policy ",
           "Islands ,Solomon ,SIDS ,fish ,opportunities ,project "
          ],
          [
           -8.220529901604925,
           "CLUSTER 9",
           0.3448962179131853,
           "Afghan ,SIDS ,Afghans ,vote ,emissions ,fish ",
           "Islands ,Vanuatu ,importance ,Marshall ,SDGs ,policy ",
           "Islands ,Solomon ,SIDS ,fish ,opportunities ,project "
          ],
          [
           -8.220529901604925,
           "CLUSTER 9",
           0.3448962179131853,
           "Afghan ,SIDS ,Afghans ,vote ,emissions ,fish ",
           "Islands ,Vanuatu ,importance ,Marshall ,SDGs ,policy ",
           "Islands ,Solomon ,SIDS ,fish ,opportunities ,project "
          ],
          [
           -8.220529901604925,
           "CLUSTER 9",
           0.3448962179131853,
           "Afghan ,SIDS ,Afghans ,vote ,emissions ,fish ",
           "Islands ,Vanuatu ,importance ,Marshall ,SDGs ,policy ",
           "Islands ,Solomon ,SIDS ,fish ,opportunities ,project "
          ],
          [
           -8.220529901604925,
           "CLUSTER 9",
           0.3448962179131853,
           "Afghan ,SIDS ,Afghans ,vote ,emissions ,fish ",
           "Islands ,Vanuatu ,importance ,Marshall ,SDGs ,policy ",
           "Islands ,Solomon ,SIDS ,fish ,opportunities ,project "
          ],
          [
           -8.220529901604925,
           "CLUSTER 9",
           0.3448962179131853,
           "Afghan ,SIDS ,Afghans ,vote ,emissions ,fish ",
           "Islands ,Vanuatu ,importance ,Marshall ,SDGs ,policy ",
           "Islands ,Solomon ,SIDS ,fish ,opportunities ,project "
          ],
          [
           -8.220529901604925,
           "CLUSTER 9",
           0.3448962179131853,
           "Afghan ,SIDS ,Afghans ,vote ,emissions ,fish ",
           "Islands ,Vanuatu ,importance ,Marshall ,SDGs ,policy ",
           "Islands ,Solomon ,SIDS ,fish ,opportunities ,project "
          ],
          [
           -8.220529901604925,
           "CLUSTER 9",
           0.3448962179131853,
           "Afghan ,SIDS ,Afghans ,vote ,emissions ,fish ",
           "Islands ,Vanuatu ,importance ,Marshall ,SDGs ,policy ",
           "Islands ,Solomon ,SIDS ,fish ,opportunities ,project "
          ],
          [
           -8.220529901604925,
           "CLUSTER 9",
           0.3448962179131853,
           "Afghan ,SIDS ,Afghans ,vote ,emissions ,fish ",
           "Islands ,Vanuatu ,importance ,Marshall ,SDGs ,policy ",
           "Islands ,Solomon ,SIDS ,fish ,opportunities ,project "
          ],
          [
           -8.220529901604925,
           "CLUSTER 9",
           0.3448962179131853,
           "Afghan ,SIDS ,Afghans ,vote ,emissions ,fish ",
           "Islands ,Vanuatu ,importance ,Marshall ,SDGs ,policy ",
           "Islands ,Solomon ,SIDS ,fish ,opportunities ,project "
          ],
          [
           -8.220529901604925,
           "CLUSTER 9",
           0.3448962179131853,
           "Afghan ,SIDS ,Afghans ,vote ,emissions ,fish ",
           "Islands ,Vanuatu ,importance ,Marshall ,SDGs ,policy ",
           "Islands ,Solomon ,SIDS ,fish ,opportunities ,project "
          ],
          [
           -8.220529901604925,
           "CLUSTER 9",
           0.3448962179131853,
           "Afghan ,SIDS ,Afghans ,vote ,emissions ,fish ",
           "Islands ,Vanuatu ,importance ,Marshall ,SDGs ,policy ",
           "Islands ,Solomon ,SIDS ,fish ,opportunities ,project "
          ],
          [
           -8.220529901604925,
           "CLUSTER 9",
           0.3448962179131853,
           "Afghan ,SIDS ,Afghans ,vote ,emissions ,fish ",
           "Islands ,Vanuatu ,importance ,Marshall ,SDGs ,policy ",
           "Islands ,Solomon ,SIDS ,fish ,opportunities ,project "
          ],
          [
           -8.220529901604925,
           "CLUSTER 9",
           0.3448962179131853,
           "Afghan ,SIDS ,Afghans ,vote ,emissions ,fish ",
           "Islands ,Vanuatu ,importance ,Marshall ,SDGs ,policy ",
           "Islands ,Solomon ,SIDS ,fish ,opportunities ,project "
          ]
         ],
         "geo": "geo",
         "hovertemplate": "Discussion Topics=Solomon ,Vanuatu ,SIDS ,Afghan ,Islands <br>ISO Code=%{location}<br>Perplexity Score=%{customdata[0]}<br>index=%{customdata[1]}<br>Coherence Score=%{customdata[2]}<br>Major Topics 1=%{customdata[3]}<br>Major Topics 2=%{customdata[4]}<br>Major Topics 3=%{customdata[5]}<extra></extra>",
         "locations": [
          "AFG",
          "AUS",
          "BHS",
          "BLZ",
          "COM",
          "FSM",
          "HRV",
          "KIR",
          "MDV",
          "MHL",
          "NRU",
          "PLW",
          "PNG",
          "SLB",
          "SYC",
          "TON",
          "TUV",
          "VUT",
          "WSM"
         ],
         "name": "Solomon ,Vanuatu ,SIDS ,Afghan ,Islands ",
         "showlegend": true,
         "showscale": false,
         "type": "choropleth",
         "z": [
          1,
          1,
          1,
          1,
          1,
          1,
          1,
          1,
          1,
          1,
          1,
          1,
          1,
          1,
          1,
          1,
          1,
          1,
          1
         ]
        },
        {
         "colorscale": [
          [
           0,
           "#565656"
          ],
          [
           1,
           "#565656"
          ]
         ],
         "customdata": [
          [
           -8.186497039025673,
           "CLUSTER 0",
           0.3449276927548772,
           "region ,Nagorno ,Karabakh ,revolution ,refugees ,environment ",
           "South ,2020 ,elections ,Republic ,continent ,solidarity ",
           "health ,school ,cost ,prosperity ,million ,critical "
          ],
          [
           -8.186497039025673,
           "CLUSTER 0",
           0.3449276927548772,
           "region ,Nagorno ,Karabakh ,revolution ,refugees ,environment ",
           "South ,2020 ,elections ,Republic ,continent ,solidarity ",
           "health ,school ,cost ,prosperity ,million ,critical "
          ],
          [
           -8.186497039025673,
           "CLUSTER 0",
           0.3449276927548772,
           "region ,Nagorno ,Karabakh ,revolution ,refugees ,environment ",
           "South ,2020 ,elections ,Republic ,continent ,solidarity ",
           "health ,school ,cost ,prosperity ,million ,critical "
          ],
          [
           -8.186497039025673,
           "CLUSTER 0",
           0.3449276927548772,
           "region ,Nagorno ,Karabakh ,revolution ,refugees ,environment ",
           "South ,2020 ,elections ,Republic ,continent ,solidarity ",
           "health ,school ,cost ,prosperity ,million ,critical "
          ],
          [
           -8.186497039025673,
           "CLUSTER 0",
           0.3449276927548772,
           "region ,Nagorno ,Karabakh ,revolution ,refugees ,environment ",
           "South ,2020 ,elections ,Republic ,continent ,solidarity ",
           "health ,school ,cost ,prosperity ,million ,critical "
          ],
          [
           -8.186497039025673,
           "CLUSTER 0",
           0.3449276927548772,
           "region ,Nagorno ,Karabakh ,revolution ,refugees ,environment ",
           "South ,2020 ,elections ,Republic ,continent ,solidarity ",
           "health ,school ,cost ,prosperity ,million ,critical "
          ],
          [
           -8.186497039025673,
           "CLUSTER 0",
           0.3449276927548772,
           "region ,Nagorno ,Karabakh ,revolution ,refugees ,environment ",
           "South ,2020 ,elections ,Republic ,continent ,solidarity ",
           "health ,school ,cost ,prosperity ,million ,critical "
          ],
          [
           -8.186497039025673,
           "CLUSTER 0",
           0.3449276927548772,
           "region ,Nagorno ,Karabakh ,revolution ,refugees ,environment ",
           "South ,2020 ,elections ,Republic ,continent ,solidarity ",
           "health ,school ,cost ,prosperity ,million ,critical "
          ],
          [
           -8.186497039025673,
           "CLUSTER 0",
           0.3449276927548772,
           "region ,Nagorno ,Karabakh ,revolution ,refugees ,environment ",
           "South ,2020 ,elections ,Republic ,continent ,solidarity ",
           "health ,school ,cost ,prosperity ,million ,critical "
          ],
          [
           -8.186497039025673,
           "CLUSTER 0",
           0.3449276927548772,
           "region ,Nagorno ,Karabakh ,revolution ,refugees ,environment ",
           "South ,2020 ,elections ,Republic ,continent ,solidarity ",
           "health ,school ,cost ,prosperity ,million ,critical "
          ],
          [
           -8.186497039025673,
           "CLUSTER 0",
           0.3449276927548772,
           "region ,Nagorno ,Karabakh ,revolution ,refugees ,environment ",
           "South ,2020 ,elections ,Republic ,continent ,solidarity ",
           "health ,school ,cost ,prosperity ,million ,critical "
          ],
          [
           -8.186497039025673,
           "CLUSTER 0",
           0.3449276927548772,
           "region ,Nagorno ,Karabakh ,revolution ,refugees ,environment ",
           "South ,2020 ,elections ,Republic ,continent ,solidarity ",
           "health ,school ,cost ,prosperity ,million ,critical "
          ],
          [
           -8.186497039025673,
           "CLUSTER 0",
           0.3449276927548772,
           "region ,Nagorno ,Karabakh ,revolution ,refugees ,environment ",
           "South ,2020 ,elections ,Republic ,continent ,solidarity ",
           "health ,school ,cost ,prosperity ,million ,critical "
          ],
          [
           -8.186497039025673,
           "CLUSTER 0",
           0.3449276927548772,
           "region ,Nagorno ,Karabakh ,revolution ,refugees ,environment ",
           "South ,2020 ,elections ,Republic ,continent ,solidarity ",
           "health ,school ,cost ,prosperity ,million ,critical "
          ],
          [
           -8.186497039025673,
           "CLUSTER 0",
           0.3449276927548772,
           "region ,Nagorno ,Karabakh ,revolution ,refugees ,environment ",
           "South ,2020 ,elections ,Republic ,continent ,solidarity ",
           "health ,school ,cost ,prosperity ,million ,critical "
          ],
          [
           -8.186497039025673,
           "CLUSTER 0",
           0.3449276927548772,
           "region ,Nagorno ,Karabakh ,revolution ,refugees ,environment ",
           "South ,2020 ,elections ,Republic ,continent ,solidarity ",
           "health ,school ,cost ,prosperity ,million ,critical "
          ],
          [
           -8.186497039025673,
           "CLUSTER 0",
           0.3449276927548772,
           "region ,Nagorno ,Karabakh ,revolution ,refugees ,environment ",
           "South ,2020 ,elections ,Republic ,continent ,solidarity ",
           "health ,school ,cost ,prosperity ,million ,critical "
          ],
          [
           -8.186497039025673,
           "CLUSTER 0",
           0.3449276927548772,
           "region ,Nagorno ,Karabakh ,revolution ,refugees ,environment ",
           "South ,2020 ,elections ,Republic ,continent ,solidarity ",
           "health ,school ,cost ,prosperity ,million ,critical "
          ],
          [
           -8.186497039025673,
           "CLUSTER 0",
           0.3449276927548772,
           "region ,Nagorno ,Karabakh ,revolution ,refugees ,environment ",
           "South ,2020 ,elections ,Republic ,continent ,solidarity ",
           "health ,school ,cost ,prosperity ,million ,critical "
          ],
          [
           -8.186497039025673,
           "CLUSTER 0",
           0.3449276927548772,
           "region ,Nagorno ,Karabakh ,revolution ,refugees ,environment ",
           "South ,2020 ,elections ,Republic ,continent ,solidarity ",
           "health ,school ,cost ,prosperity ,million ,critical "
          ]
         ],
         "geo": "geo",
         "hovertemplate": "Discussion Topics=Nagorno ,health ,South ,school ,2020 ,region <br>ISO Code=%{location}<br>Perplexity Score=%{customdata[0]}<br>index=%{customdata[1]}<br>Coherence Score=%{customdata[2]}<br>Major Topics 1=%{customdata[3]}<br>Major Topics 2=%{customdata[4]}<br>Major Topics 3=%{customdata[5]}<extra></extra>",
         "locations": [
          "AGO",
          "ARM",
          "BDI",
          "BEL",
          "BGD",
          "BWA",
          "GMB",
          "KEN",
          "LSO",
          "MEX",
          "MWI",
          "NAM",
          "NGA",
          "RWA",
          "SLE",
          "SOM",
          "UGA",
          "ZAF",
          "ZMB",
          "ZWE"
         ],
         "name": "Nagorno ,health ,South ,school ,2020 ,region ",
         "showlegend": true,
         "showscale": false,
         "type": "choropleth",
         "z": [
          1,
          1,
          1,
          1,
          1,
          1,
          1,
          1,
          1,
          1,
          1,
          1,
          1,
          1,
          1,
          1,
          1,
          1,
          1,
          1
         ]
        },
        {
         "colorscale": [
          [
           0,
           "#1C8356"
          ],
          [
           1,
           "#1C8356"
          ]
         ],
         "customdata": [
          [
           -8.227648165208908,
           "CLUSTER 1",
           0.35441767221042203,
           "Cabo ,Mauritius ,Verde ,Caribbean ,Saint ,European ",
           "Tobago ,Caribbean ,Mozambique ,Timor-Leste ,Guinea-Bissau ,Saint ",
           "Caribbean ,choose ,today ,know ,recent ,talk "
          ],
          [
           -8.227648165208908,
           "CLUSTER 1",
           0.35441767221042203,
           "Cabo ,Mauritius ,Verde ,Caribbean ,Saint ,European ",
           "Tobago ,Caribbean ,Mozambique ,Timor-Leste ,Guinea-Bissau ,Saint ",
           "Caribbean ,choose ,today ,know ,recent ,talk "
          ],
          [
           -8.227648165208908,
           "CLUSTER 1",
           0.35441767221042203,
           "Cabo ,Mauritius ,Verde ,Caribbean ,Saint ,European ",
           "Tobago ,Caribbean ,Mozambique ,Timor-Leste ,Guinea-Bissau ,Saint ",
           "Caribbean ,choose ,today ,know ,recent ,talk "
          ],
          [
           -8.227648165208908,
           "CLUSTER 1",
           0.35441767221042203,
           "Cabo ,Mauritius ,Verde ,Caribbean ,Saint ,European ",
           "Tobago ,Caribbean ,Mozambique ,Timor-Leste ,Guinea-Bissau ,Saint ",
           "Caribbean ,choose ,today ,know ,recent ,talk "
          ],
          [
           -8.227648165208908,
           "CLUSTER 1",
           0.35441767221042203,
           "Cabo ,Mauritius ,Verde ,Caribbean ,Saint ,European ",
           "Tobago ,Caribbean ,Mozambique ,Timor-Leste ,Guinea-Bissau ,Saint ",
           "Caribbean ,choose ,today ,know ,recent ,talk "
          ],
          [
           -8.227648165208908,
           "CLUSTER 1",
           0.35441767221042203,
           "Cabo ,Mauritius ,Verde ,Caribbean ,Saint ,European ",
           "Tobago ,Caribbean ,Mozambique ,Timor-Leste ,Guinea-Bissau ,Saint ",
           "Caribbean ,choose ,today ,know ,recent ,talk "
          ],
          [
           -8.227648165208908,
           "CLUSTER 1",
           0.35441767221042203,
           "Cabo ,Mauritius ,Verde ,Caribbean ,Saint ,European ",
           "Tobago ,Caribbean ,Mozambique ,Timor-Leste ,Guinea-Bissau ,Saint ",
           "Caribbean ,choose ,today ,know ,recent ,talk "
          ],
          [
           -8.227648165208908,
           "CLUSTER 1",
           0.35441767221042203,
           "Cabo ,Mauritius ,Verde ,Caribbean ,Saint ,European ",
           "Tobago ,Caribbean ,Mozambique ,Timor-Leste ,Guinea-Bissau ,Saint ",
           "Caribbean ,choose ,today ,know ,recent ,talk "
          ],
          [
           -8.227648165208908,
           "CLUSTER 1",
           0.35441767221042203,
           "Cabo ,Mauritius ,Verde ,Caribbean ,Saint ,European ",
           "Tobago ,Caribbean ,Mozambique ,Timor-Leste ,Guinea-Bissau ,Saint ",
           "Caribbean ,choose ,today ,know ,recent ,talk "
          ],
          [
           -8.227648165208908,
           "CLUSTER 1",
           0.35441767221042203,
           "Cabo ,Mauritius ,Verde ,Caribbean ,Saint ,European ",
           "Tobago ,Caribbean ,Mozambique ,Timor-Leste ,Guinea-Bissau ,Saint ",
           "Caribbean ,choose ,today ,know ,recent ,talk "
          ],
          [
           -8.227648165208908,
           "CLUSTER 1",
           0.35441767221042203,
           "Cabo ,Mauritius ,Verde ,Caribbean ,Saint ,European ",
           "Tobago ,Caribbean ,Mozambique ,Timor-Leste ,Guinea-Bissau ,Saint ",
           "Caribbean ,choose ,today ,know ,recent ,talk "
          ],
          [
           -8.227648165208908,
           "CLUSTER 1",
           0.35441767221042203,
           "Cabo ,Mauritius ,Verde ,Caribbean ,Saint ,European ",
           "Tobago ,Caribbean ,Mozambique ,Timor-Leste ,Guinea-Bissau ,Saint ",
           "Caribbean ,choose ,today ,know ,recent ,talk "
          ],
          [
           -8.227648165208908,
           "CLUSTER 1",
           0.35441767221042203,
           "Cabo ,Mauritius ,Verde ,Caribbean ,Saint ,European ",
           "Tobago ,Caribbean ,Mozambique ,Timor-Leste ,Guinea-Bissau ,Saint ",
           "Caribbean ,choose ,today ,know ,recent ,talk "
          ],
          [
           -8.227648165208908,
           "CLUSTER 1",
           0.35441767221042203,
           "Cabo ,Mauritius ,Verde ,Caribbean ,Saint ,European ",
           "Tobago ,Caribbean ,Mozambique ,Timor-Leste ,Guinea-Bissau ,Saint ",
           "Caribbean ,choose ,today ,know ,recent ,talk "
          ],
          [
           -8.227648165208908,
           "CLUSTER 1",
           0.35441767221042203,
           "Cabo ,Mauritius ,Verde ,Caribbean ,Saint ,European ",
           "Tobago ,Caribbean ,Mozambique ,Timor-Leste ,Guinea-Bissau ,Saint ",
           "Caribbean ,choose ,today ,know ,recent ,talk "
          ],
          [
           -8.227648165208908,
           "CLUSTER 1",
           0.35441767221042203,
           "Cabo ,Mauritius ,Verde ,Caribbean ,Saint ,European ",
           "Tobago ,Caribbean ,Mozambique ,Timor-Leste ,Guinea-Bissau ,Saint ",
           "Caribbean ,choose ,today ,know ,recent ,talk "
          ],
          [
           -8.227648165208908,
           "CLUSTER 1",
           0.35441767221042203,
           "Cabo ,Mauritius ,Verde ,Caribbean ,Saint ,European ",
           "Tobago ,Caribbean ,Mozambique ,Timor-Leste ,Guinea-Bissau ,Saint ",
           "Caribbean ,choose ,today ,know ,recent ,talk "
          ]
         ],
         "geo": "geo",
         "hovertemplate": "Discussion Topics=Cabo ,Mauritius ,Caribbean ,choose ,Tobago <br>ISO Code=%{location}<br>Perplexity Score=%{customdata[0]}<br>index=%{customdata[1]}<br>Coherence Score=%{customdata[2]}<br>Major Topics 1=%{customdata[3]}<br>Major Topics 2=%{customdata[4]}<br>Major Topics 3=%{customdata[5]}<extra></extra>",
         "locations": [
          "ALB",
          "ATG",
          "AZE",
          "BRB",
          "CPV",
          "GNB",
          "GUY",
          "JAM",
          "LAO",
          "LCA",
          "MOZ",
          "MUS",
          "ROU",
          "SUR",
          "TLS",
          "TTO",
          "VCT"
         ],
         "name": "Cabo ,Mauritius ,Caribbean ,choose ,Tobago ",
         "showlegend": true,
         "showscale": false,
         "type": "choropleth",
         "z": [
          1,
          1,
          1,
          1,
          1,
          1,
          1,
          1,
          1,
          1,
          1,
          1,
          1,
          1,
          1,
          1,
          1
         ]
        },
        {
         "colorscale": [
          [
           0,
           "#16FF32"
          ],
          [
           1,
           "#16FF32"
          ]
         ],
         "customdata": [
          [
           -8.083384288503002,
           "CLUSTER 2",
           0.3074828713038014,
           "Democratic ,Africa ,Andorra ,African ,2015 ,institutions ",
           "Paraguay ,technological ,Latin ,revolution ,Dominican ,clear ",
           "Marino ,participation ,initiatives ,corruption ,arm ,problems "
          ],
          [
           -8.083384288503002,
           "CLUSTER 2",
           0.3074828713038014,
           "Democratic ,Africa ,Andorra ,African ,2015 ,institutions ",
           "Paraguay ,technological ,Latin ,revolution ,Dominican ,clear ",
           "Marino ,participation ,initiatives ,corruption ,arm ,problems "
          ],
          [
           -8.083384288503002,
           "CLUSTER 2",
           0.3074828713038014,
           "Democratic ,Africa ,Andorra ,African ,2015 ,institutions ",
           "Paraguay ,technological ,Latin ,revolution ,Dominican ,clear ",
           "Marino ,participation ,initiatives ,corruption ,arm ,problems "
          ],
          [
           -8.083384288503002,
           "CLUSTER 2",
           0.3074828713038014,
           "Democratic ,Africa ,Andorra ,African ,2015 ,institutions ",
           "Paraguay ,technological ,Latin ,revolution ,Dominican ,clear ",
           "Marino ,participation ,initiatives ,corruption ,arm ,problems "
          ],
          [
           -8.083384288503002,
           "CLUSTER 2",
           0.3074828713038014,
           "Democratic ,Africa ,Andorra ,African ,2015 ,institutions ",
           "Paraguay ,technological ,Latin ,revolution ,Dominican ,clear ",
           "Marino ,participation ,initiatives ,corruption ,arm ,problems "
          ],
          [
           -8.083384288503002,
           "CLUSTER 2",
           0.3074828713038014,
           "Democratic ,Africa ,Andorra ,African ,2015 ,institutions ",
           "Paraguay ,technological ,Latin ,revolution ,Dominican ,clear ",
           "Marino ,participation ,initiatives ,corruption ,arm ,problems "
          ],
          [
           -8.083384288503002,
           "CLUSTER 2",
           0.3074828713038014,
           "Democratic ,Africa ,Andorra ,African ,2015 ,institutions ",
           "Paraguay ,technological ,Latin ,revolution ,Dominican ,clear ",
           "Marino ,participation ,initiatives ,corruption ,arm ,problems "
          ],
          [
           -8.083384288503002,
           "CLUSTER 2",
           0.3074828713038014,
           "Democratic ,Africa ,Andorra ,African ,2015 ,institutions ",
           "Paraguay ,technological ,Latin ,revolution ,Dominican ,clear ",
           "Marino ,participation ,initiatives ,corruption ,arm ,problems "
          ],
          [
           -8.083384288503002,
           "CLUSTER 2",
           0.3074828713038014,
           "Democratic ,Africa ,Andorra ,African ,2015 ,institutions ",
           "Paraguay ,technological ,Latin ,revolution ,Dominican ,clear ",
           "Marino ,participation ,initiatives ,corruption ,arm ,problems "
          ],
          [
           -8.083384288503002,
           "CLUSTER 2",
           0.3074828713038014,
           "Democratic ,Africa ,Andorra ,African ,2015 ,institutions ",
           "Paraguay ,technological ,Latin ,revolution ,Dominican ,clear ",
           "Marino ,participation ,initiatives ,corruption ,arm ,problems "
          ],
          [
           -8.083384288503002,
           "CLUSTER 2",
           0.3074828713038014,
           "Democratic ,Africa ,Andorra ,African ,2015 ,institutions ",
           "Paraguay ,technological ,Latin ,revolution ,Dominican ,clear ",
           "Marino ,participation ,initiatives ,corruption ,arm ,problems "
          ],
          [
           -8.083384288503002,
           "CLUSTER 2",
           0.3074828713038014,
           "Democratic ,Africa ,Andorra ,African ,2015 ,institutions ",
           "Paraguay ,technological ,Latin ,revolution ,Dominican ,clear ",
           "Marino ,participation ,initiatives ,corruption ,arm ,problems "
          ],
          [
           -8.083384288503002,
           "CLUSTER 2",
           0.3074828713038014,
           "Democratic ,Africa ,Andorra ,African ,2015 ,institutions ",
           "Paraguay ,technological ,Latin ,revolution ,Dominican ,clear ",
           "Marino ,participation ,initiatives ,corruption ,arm ,problems "
          ]
         ],
         "geo": "geo",
         "hovertemplate": "Discussion Topics=Marino ,technological ,Paraguay ,Democratic ,Africa ,participation <br>ISO Code=%{location}<br>Perplexity Score=%{customdata[0]}<br>index=%{customdata[1]}<br>Coherence Score=%{customdata[2]}<br>Major Topics 1=%{customdata[3]}<br>Major Topics 2=%{customdata[4]}<br>Major Topics 3=%{customdata[5]}<extra></extra>",
         "locations": [
          "AND",
          "BOL",
          "COD",
          "CRI",
          "DOM",
          "ESP",
          "MDG",
          "NIC",
          "PER",
          "PRY",
          "SMR",
          "TZA",
          "URY"
         ],
         "name": "Marino ,technological ,Paraguay ,Democratic ,Africa ,participation ",
         "showlegend": true,
         "showscale": false,
         "type": "choropleth",
         "z": [
          1,
          1,
          1,
          1,
          1,
          1,
          1,
          1,
          1,
          1,
          1,
          1,
          1
         ]
        },
        {
         "colorscale": [
          [
           0,
           "#F7E1A0"
          ],
          [
           1,
           "#F7E1A0"
          ]
         ],
         "customdata": [
          [
           -7.441709285628325,
           "CLUSTER 3",
           0.37662222753864594,
           "Sahel ,Africa ,strategy ,energy ,public ,access ",
           "Sudanese ,revolution ,women ,Emirates ,crises ,solutions ",
           "brother ,crisis ,question ,path ,democracy ,crises "
          ],
          [
           -7.441709285628325,
           "CLUSTER 3",
           0.37662222753864594,
           "Sahel ,Africa ,strategy ,energy ,public ,access ",
           "Sudanese ,revolution ,women ,Emirates ,crises ,solutions ",
           "brother ,crisis ,question ,path ,democracy ,crises "
          ],
          [
           -7.441709285628325,
           "CLUSTER 3",
           0.37662222753864594,
           "Sahel ,Africa ,strategy ,energy ,public ,access ",
           "Sudanese ,revolution ,women ,Emirates ,crises ,solutions ",
           "brother ,crisis ,question ,path ,democracy ,crises "
          ],
          [
           -7.441709285628325,
           "CLUSTER 3",
           0.37662222753864594,
           "Sahel ,Africa ,strategy ,energy ,public ,access ",
           "Sudanese ,revolution ,women ,Emirates ,crises ,solutions ",
           "brother ,crisis ,question ,path ,democracy ,crises "
          ],
          [
           -7.441709285628325,
           "CLUSTER 3",
           0.37662222753864594,
           "Sahel ,Africa ,strategy ,energy ,public ,access ",
           "Sudanese ,revolution ,women ,Emirates ,crises ,solutions ",
           "brother ,crisis ,question ,path ,democracy ,crises "
          ],
          [
           -7.441709285628325,
           "CLUSTER 3",
           0.37662222753864594,
           "Sahel ,Africa ,strategy ,energy ,public ,access ",
           "Sudanese ,revolution ,women ,Emirates ,crises ,solutions ",
           "brother ,crisis ,question ,path ,democracy ,crises "
          ],
          [
           -7.441709285628325,
           "CLUSTER 3",
           0.37662222753864594,
           "Sahel ,Africa ,strategy ,energy ,public ,access ",
           "Sudanese ,revolution ,women ,Emirates ,crises ,solutions ",
           "brother ,crisis ,question ,path ,democracy ,crises "
          ]
         ],
         "geo": "geo",
         "hovertemplate": "Discussion Topics=brother ,crisis ,Africa ,Sahel ,Sudanese ,revolution <br>ISO Code=%{location}<br>Perplexity Score=%{customdata[0]}<br>index=%{customdata[1]}<br>Coherence Score=%{customdata[2]}<br>Major Topics 1=%{customdata[3]}<br>Major Topics 2=%{customdata[4]}<br>Major Topics 3=%{customdata[5]}<extra></extra>",
         "locations": [
          "ARE",
          "DZA",
          "MAR",
          "MRT",
          "OMN",
          "SDN",
          "TUN"
         ],
         "name": "brother ,crisis ,Africa ,Sahel ,Sudanese ,revolution ",
         "showlegend": true,
         "showscale": false,
         "type": "choropleth",
         "z": [
          1,
          1,
          1,
          1,
          1,
          1,
          1
         ]
        },
        {
         "colorscale": [
          [
           0,
           "#1CBE4F"
          ],
          [
           1,
           "#1CBE4F"
          ]
         ],
         "customdata": [
          [
           -8.060906170229384,
           "CLUSTER 4",
           0.2617961364516556,
           "European ,protection ,societies ,peaceful ,Conference ,natural ",
           "transition ,like ,enable ,Francis ,Pope ,group ",
           "Lanka ,small ,policy ,terrorism ,technologies ,technology "
          ],
          [
           -8.060906170229384,
           "CLUSTER 4",
           0.2617961364516556,
           "European ,protection ,societies ,peaceful ,Conference ,natural ",
           "transition ,like ,enable ,Francis ,Pope ,group ",
           "Lanka ,small ,policy ,terrorism ,technologies ,technology "
          ],
          [
           -8.060906170229384,
           "CLUSTER 4",
           0.2617961364516556,
           "European ,protection ,societies ,peaceful ,Conference ,natural ",
           "transition ,like ,enable ,Francis ,Pope ,group ",
           "Lanka ,small ,policy ,terrorism ,technologies ,technology "
          ],
          [
           -8.060906170229384,
           "CLUSTER 4",
           0.2617961364516556,
           "European ,protection ,societies ,peaceful ,Conference ,natural ",
           "transition ,like ,enable ,Francis ,Pope ,group ",
           "Lanka ,small ,policy ,terrorism ,technologies ,technology "
          ],
          [
           -8.060906170229384,
           "CLUSTER 4",
           0.2617961364516556,
           "European ,protection ,societies ,peaceful ,Conference ,natural ",
           "transition ,like ,enable ,Francis ,Pope ,group ",
           "Lanka ,small ,policy ,terrorism ,technologies ,technology "
          ],
          [
           -8.060906170229384,
           "CLUSTER 4",
           0.2617961364516556,
           "European ,protection ,societies ,peaceful ,Conference ,natural ",
           "transition ,like ,enable ,Francis ,Pope ,group ",
           "Lanka ,small ,policy ,terrorism ,technologies ,technology "
          ],
          [
           -8.060906170229384,
           "CLUSTER 4",
           0.2617961364516556,
           "European ,protection ,societies ,peaceful ,Conference ,natural ",
           "transition ,like ,enable ,Francis ,Pope ,group ",
           "Lanka ,small ,policy ,terrorism ,technologies ,technology "
          ],
          [
           -8.060906170229384,
           "CLUSTER 4",
           0.2617961364516556,
           "European ,protection ,societies ,peaceful ,Conference ,natural ",
           "transition ,like ,enable ,Francis ,Pope ,group ",
           "Lanka ,small ,policy ,terrorism ,technologies ,technology "
          ],
          [
           -8.060906170229384,
           "CLUSTER 4",
           0.2617961364516556,
           "European ,protection ,societies ,peaceful ,Conference ,natural ",
           "transition ,like ,enable ,Francis ,Pope ,group ",
           "Lanka ,small ,policy ,terrorism ,technologies ,technology "
          ],
          [
           -8.060906170229384,
           "CLUSTER 4",
           0.2617961364516556,
           "European ,protection ,societies ,peaceful ,Conference ,natural ",
           "transition ,like ,enable ,Francis ,Pope ,group ",
           "Lanka ,small ,policy ,terrorism ,technologies ,technology "
          ],
          [
           -8.060906170229384,
           "CLUSTER 4",
           0.2617961364516556,
           "European ,protection ,societies ,peaceful ,Conference ,natural ",
           "transition ,like ,enable ,Francis ,Pope ,group ",
           "Lanka ,small ,policy ,terrorism ,technologies ,technology "
          ],
          [
           -8.060906170229384,
           "CLUSTER 4",
           0.2617961364516556,
           "European ,protection ,societies ,peaceful ,Conference ,natural ",
           "transition ,like ,enable ,Francis ,Pope ,group ",
           "Lanka ,small ,policy ,terrorism ,technologies ,technology "
          ],
          [
           -8.060906170229384,
           "CLUSTER 4",
           0.2617961364516556,
           "European ,protection ,societies ,peaceful ,Conference ,natural ",
           "transition ,like ,enable ,Francis ,Pope ,group ",
           "Lanka ,small ,policy ,terrorism ,technologies ,technology "
          ],
          [
           -8.060906170229384,
           "CLUSTER 4",
           0.2617961364516556,
           "European ,protection ,societies ,peaceful ,Conference ,natural ",
           "transition ,like ,enable ,Francis ,Pope ,group ",
           "Lanka ,small ,policy ,terrorism ,technologies ,technology "
          ]
         ],
         "geo": "geo",
         "hovertemplate": "Discussion Topics=Lanka ,protection ,like ,small ,transition ,European <br>ISO Code=%{location}<br>Perplexity Score=%{customdata[0]}<br>index=%{customdata[1]}<br>Coherence Score=%{customdata[2]}<br>Major Topics 1=%{customdata[3]}<br>Major Topics 2=%{customdata[4]}<br>Major Topics 3=%{customdata[5]}<extra></extra>",
         "locations": [
          "ARG",
          "CHE",
          "ECU",
          "IRL",
          "ISL",
          "ITA",
          "LKA",
          "MCO",
          "MLI",
          "MLT",
          "MNE",
          "POL",
          "SVN",
          "VAT"
         ],
         "name": "Lanka ,protection ,like ,small ,transition ,European ",
         "showlegend": true,
         "showscale": false,
         "type": "choropleth",
         "z": [
          1,
          1,
          1,
          1,
          1,
          1,
          1,
          1,
          1,
          1,
          1,
          1,
          1,
          1
         ]
        },
        {
         "colorscale": [
          [
           0,
           "#C4451C"
          ],
          [
           1,
           "#C4451C"
          ]
         ],
         "customdata": [
          [
           -7.942475710010616,
           "CLUSTER 5",
           0.35483550475642156,
           "multilateralism ,listen ,gender ,hear ,Member ,pursue ",
           "democracy ,young ,Asia ,propose ,North-East ,reason ",
           "justice ,military ,freedom ,crimes ,reach ,best "
          ],
          [
           -7.942475710010616,
           "CLUSTER 5",
           0.35483550475642156,
           "multilateralism ,listen ,gender ,hear ,Member ,pursue ",
           "democracy ,young ,Asia ,propose ,North-East ,reason ",
           "justice ,military ,freedom ,crimes ,reach ,best "
          ],
          [
           -7.942475710010616,
           "CLUSTER 5",
           0.35483550475642156,
           "multilateralism ,listen ,gender ,hear ,Member ,pursue ",
           "democracy ,young ,Asia ,propose ,North-East ,reason ",
           "justice ,military ,freedom ,crimes ,reach ,best "
          ],
          [
           -7.942475710010616,
           "CLUSTER 5",
           0.35483550475642156,
           "multilateralism ,listen ,gender ,hear ,Member ,pursue ",
           "democracy ,young ,Asia ,propose ,North-East ,reason ",
           "justice ,military ,freedom ,crimes ,reach ,best "
          ],
          [
           -7.942475710010616,
           "CLUSTER 5",
           0.35483550475642156,
           "multilateralism ,listen ,gender ,hear ,Member ,pursue ",
           "democracy ,young ,Asia ,propose ,North-East ,reason ",
           "justice ,military ,freedom ,crimes ,reach ,best "
          ],
          [
           -7.942475710010616,
           "CLUSTER 5",
           0.35483550475642156,
           "multilateralism ,listen ,gender ,hear ,Member ,pursue ",
           "democracy ,young ,Asia ,propose ,North-East ,reason ",
           "justice ,military ,freedom ,crimes ,reach ,best "
          ],
          [
           -7.942475710010616,
           "CLUSTER 5",
           0.35483550475642156,
           "multilateralism ,listen ,gender ,hear ,Member ,pursue ",
           "democracy ,young ,Asia ,propose ,North-East ,reason ",
           "justice ,military ,freedom ,crimes ,reach ,best "
          ],
          [
           -7.942475710010616,
           "CLUSTER 5",
           0.35483550475642156,
           "multilateralism ,listen ,gender ,hear ,Member ,pursue ",
           "democracy ,young ,Asia ,propose ,North-East ,reason ",
           "justice ,military ,freedom ,crimes ,reach ,best "
          ],
          [
           -7.942475710010616,
           "CLUSTER 5",
           0.35483550475642156,
           "multilateralism ,listen ,gender ,hear ,Member ,pursue ",
           "democracy ,young ,Asia ,propose ,North-East ,reason ",
           "justice ,military ,freedom ,crimes ,reach ,best "
          ],
          [
           -7.942475710010616,
           "CLUSTER 5",
           0.35483550475642156,
           "multilateralism ,listen ,gender ,hear ,Member ,pursue ",
           "democracy ,young ,Asia ,propose ,North-East ,reason ",
           "justice ,military ,freedom ,crimes ,reach ,best "
          ]
         ],
         "geo": "geo",
         "hovertemplate": "Discussion Topics=justice ,young ,democracy ,multilateralism ,listen ,military <br>ISO Code=%{location}<br>Perplexity Score=%{customdata[0]}<br>index=%{customdata[1]}<br>Coherence Score=%{customdata[2]}<br>Major Topics 1=%{customdata[3]}<br>Major Topics 2=%{customdata[4]}<br>Major Topics 3=%{customdata[5]}<extra></extra>",
         "locations": [
          "AUT",
          "BGR",
          "CAN",
          "CHN",
          "DNK",
          "LTU",
          "MNG",
          "NLD",
          "NOR",
          "SWE"
         ],
         "name": "justice ,young ,democracy ,multilateralism ,listen ,military ",
         "showlegend": true,
         "showscale": false,
         "type": "choropleth",
         "z": [
          1,
          1,
          1,
          1,
          1,
          1,
          1,
          1,
          1,
          1
         ]
        },
        {
         "colorscale": [
          [
           0,
           "#DEA0FD"
          ],
          [
           1,
           "#DEA0FD"
          ]
         ],
         "customdata": [
          [
           -8.295177482878993,
           "Others",
           0.2175132083183324,
           "Sahel ,fight ,continent ,welcome ,finance ,Faso ",
           "terrorism ,rule ,current ,combat ,common ,dangerous ",
           "South ,nations ,European ,Korean ,zone ,party "
          ],
          [
           -8.295177482878993,
           "Others",
           0.2175132083183324,
           "Sahel ,fight ,continent ,welcome ,finance ,Faso ",
           "terrorism ,rule ,current ,combat ,common ,dangerous ",
           "South ,nations ,European ,Korean ,zone ,party "
          ],
          [
           -8.295177482878993,
           "Others",
           0.2175132083183324,
           "Sahel ,fight ,continent ,welcome ,finance ,Faso ",
           "terrorism ,rule ,current ,combat ,common ,dangerous ",
           "South ,nations ,European ,Korean ,zone ,party "
          ],
          [
           -8.295177482878993,
           "Others",
           0.2175132083183324,
           "Sahel ,fight ,continent ,welcome ,finance ,Faso ",
           "terrorism ,rule ,current ,combat ,common ,dangerous ",
           "South ,nations ,European ,Korean ,zone ,party "
          ],
          [
           -8.295177482878993,
           "Others",
           0.2175132083183324,
           "Sahel ,fight ,continent ,welcome ,finance ,Faso ",
           "terrorism ,rule ,current ,combat ,common ,dangerous ",
           "South ,nations ,European ,Korean ,zone ,party "
          ],
          [
           -8.295177482878993,
           "Others",
           0.2175132083183324,
           "Sahel ,fight ,continent ,welcome ,finance ,Faso ",
           "terrorism ,rule ,current ,combat ,common ,dangerous ",
           "South ,nations ,European ,Korean ,zone ,party "
          ],
          [
           -8.295177482878993,
           "Others",
           0.2175132083183324,
           "Sahel ,fight ,continent ,welcome ,finance ,Faso ",
           "terrorism ,rule ,current ,combat ,common ,dangerous ",
           "South ,nations ,European ,Korean ,zone ,party "
          ],
          [
           -8.295177482878993,
           "Others",
           0.2175132083183324,
           "Sahel ,fight ,continent ,welcome ,finance ,Faso ",
           "terrorism ,rule ,current ,combat ,common ,dangerous ",
           "South ,nations ,European ,Korean ,zone ,party "
          ],
          [
           -8.295177482878993,
           "Others",
           0.2175132083183324,
           "Sahel ,fight ,continent ,welcome ,finance ,Faso ",
           "terrorism ,rule ,current ,combat ,common ,dangerous ",
           "South ,nations ,European ,Korean ,zone ,party "
          ],
          [
           -8.295177482878993,
           "Others",
           0.2175132083183324,
           "Sahel ,fight ,continent ,welcome ,finance ,Faso ",
           "terrorism ,rule ,current ,combat ,common ,dangerous ",
           "South ,nations ,European ,Korean ,zone ,party "
          ],
          [
           -8.295177482878993,
           "Others",
           0.2175132083183324,
           "Sahel ,fight ,continent ,welcome ,finance ,Faso ",
           "terrorism ,rule ,current ,combat ,common ,dangerous ",
           "South ,nations ,European ,Korean ,zone ,party "
          ],
          [
           -8.295177482878993,
           "Others",
           0.2175132083183324,
           "Sahel ,fight ,continent ,welcome ,finance ,Faso ",
           "terrorism ,rule ,current ,combat ,common ,dangerous ",
           "South ,nations ,European ,Korean ,zone ,party "
          ],
          [
           -8.295177482878993,
           "Others",
           0.2175132083183324,
           "Sahel ,fight ,continent ,welcome ,finance ,Faso ",
           "terrorism ,rule ,current ,combat ,common ,dangerous ",
           "South ,nations ,European ,Korean ,zone ,party "
          ],
          [
           -8.295177482878993,
           "Others",
           0.2175132083183324,
           "Sahel ,fight ,continent ,welcome ,finance ,Faso ",
           "terrorism ,rule ,current ,combat ,common ,dangerous ",
           "South ,nations ,European ,Korean ,zone ,party "
          ],
          [
           -8.295177482878993,
           "Others",
           0.2175132083183324,
           "Sahel ,fight ,continent ,welcome ,finance ,Faso ",
           "terrorism ,rule ,current ,combat ,common ,dangerous ",
           "South ,nations ,European ,Korean ,zone ,party "
          ],
          [
           -8.295177482878993,
           "Others",
           0.2175132083183324,
           "Sahel ,fight ,continent ,welcome ,finance ,Faso ",
           "terrorism ,rule ,current ,combat ,common ,dangerous ",
           "South ,nations ,European ,Korean ,zone ,party "
          ],
          [
           -8.295177482878993,
           "Others",
           0.2175132083183324,
           "Sahel ,fight ,continent ,welcome ,finance ,Faso ",
           "terrorism ,rule ,current ,combat ,common ,dangerous ",
           "South ,nations ,European ,Korean ,zone ,party "
          ],
          [
           -8.295177482878993,
           "Others",
           0.2175132083183324,
           "Sahel ,fight ,continent ,welcome ,finance ,Faso ",
           "terrorism ,rule ,current ,combat ,common ,dangerous ",
           "South ,nations ,European ,Korean ,zone ,party "
          ],
          [
           -8.295177482878993,
           "Others",
           0.2175132083183324,
           "Sahel ,fight ,continent ,welcome ,finance ,Faso ",
           "terrorism ,rule ,current ,combat ,common ,dangerous ",
           "South ,nations ,European ,Korean ,zone ,party "
          ],
          [
           -8.295177482878993,
           "Others",
           0.2175132083183324,
           "Sahel ,fight ,continent ,welcome ,finance ,Faso ",
           "terrorism ,rule ,current ,combat ,common ,dangerous ",
           "South ,nations ,European ,Korean ,zone ,party "
          ],
          [
           -8.295177482878993,
           "Others",
           0.2175132083183324,
           "Sahel ,fight ,continent ,welcome ,finance ,Faso ",
           "terrorism ,rule ,current ,combat ,common ,dangerous ",
           "South ,nations ,European ,Korean ,zone ,party "
          ],
          [
           -8.295177482878993,
           "Others",
           0.2175132083183324,
           "Sahel ,fight ,continent ,welcome ,finance ,Faso ",
           "terrorism ,rule ,current ,combat ,common ,dangerous ",
           "South ,nations ,European ,Korean ,zone ,party "
          ],
          [
           -8.295177482878993,
           "Others",
           0.2175132083183324,
           "Sahel ,fight ,continent ,welcome ,finance ,Faso ",
           "terrorism ,rule ,current ,combat ,common ,dangerous ",
           "South ,nations ,European ,Korean ,zone ,party "
          ],
          [
           -8.295177482878993,
           "Others",
           0.2175132083183324,
           "Sahel ,fight ,continent ,welcome ,finance ,Faso ",
           "terrorism ,rule ,current ,combat ,common ,dangerous ",
           "South ,nations ,European ,Korean ,zone ,party "
          ],
          [
           -8.295177482878993,
           "Others",
           0.2175132083183324,
           "Sahel ,fight ,continent ,welcome ,finance ,Faso ",
           "terrorism ,rule ,current ,combat ,common ,dangerous ",
           "South ,nations ,European ,Korean ,zone ,party "
          ],
          [
           -8.295177482878993,
           "Others",
           0.2175132083183324,
           "Sahel ,fight ,continent ,welcome ,finance ,Faso ",
           "terrorism ,rule ,current ,combat ,common ,dangerous ",
           "South ,nations ,European ,Korean ,zone ,party "
          ],
          [
           -8.295177482878993,
           "Others",
           0.2175132083183324,
           "Sahel ,fight ,continent ,welcome ,finance ,Faso ",
           "terrorism ,rule ,current ,combat ,common ,dangerous ",
           "South ,nations ,European ,Korean ,zone ,party "
          ],
          [
           -8.295177482878993,
           "Others",
           0.2175132083183324,
           "Sahel ,fight ,continent ,welcome ,finance ,Faso ",
           "terrorism ,rule ,current ,combat ,common ,dangerous ",
           "South ,nations ,European ,Korean ,zone ,party "
          ],
          [
           -8.295177482878993,
           "Others",
           0.2175132083183324,
           "Sahel ,fight ,continent ,welcome ,finance ,Faso ",
           "terrorism ,rule ,current ,combat ,common ,dangerous ",
           "South ,nations ,European ,Korean ,zone ,party "
          ],
          [
           -8.295177482878993,
           "Others",
           0.2175132083183324,
           "Sahel ,fight ,continent ,welcome ,finance ,Faso ",
           "terrorism ,rule ,current ,combat ,common ,dangerous ",
           "South ,nations ,European ,Korean ,zone ,party "
          ],
          [
           -8.295177482878993,
           "Others",
           0.2175132083183324,
           "Sahel ,fight ,continent ,welcome ,finance ,Faso ",
           "terrorism ,rule ,current ,combat ,common ,dangerous ",
           "South ,nations ,European ,Korean ,zone ,party "
          ],
          [
           -8.295177482878993,
           "Others",
           0.2175132083183324,
           "Sahel ,fight ,continent ,welcome ,finance ,Faso ",
           "terrorism ,rule ,current ,combat ,common ,dangerous ",
           "South ,nations ,European ,Korean ,zone ,party "
          ],
          [
           -8.295177482878993,
           "Others",
           0.2175132083183324,
           "Sahel ,fight ,continent ,welcome ,finance ,Faso ",
           "terrorism ,rule ,current ,combat ,common ,dangerous ",
           "South ,nations ,European ,Korean ,zone ,party "
          ],
          [
           -8.295177482878993,
           "Others",
           0.2175132083183324,
           "Sahel ,fight ,continent ,welcome ,finance ,Faso ",
           "terrorism ,rule ,current ,combat ,common ,dangerous ",
           "South ,nations ,European ,Korean ,zone ,party "
          ],
          [
           -8.295177482878993,
           "Others",
           0.2175132083183324,
           "Sahel ,fight ,continent ,welcome ,finance ,Faso ",
           "terrorism ,rule ,current ,combat ,common ,dangerous ",
           "South ,nations ,European ,Korean ,zone ,party "
          ],
          [
           -8.295177482878993,
           "Others",
           0.2175132083183324,
           "Sahel ,fight ,continent ,welcome ,finance ,Faso ",
           "terrorism ,rule ,current ,combat ,common ,dangerous ",
           "South ,nations ,European ,Korean ,zone ,party "
          ]
         ],
         "geo": "geo",
         "hovertemplate": "Discussion Topics=terrorism ,South ,fight ,Sahel ,rule ,nations <br>ISO Code=%{location}<br>Perplexity Score=%{customdata[0]}<br>index=%{customdata[1]}<br>Coherence Score=%{customdata[2]}<br>Major Topics 1=%{customdata[3]}<br>Major Topics 2=%{customdata[4]}<br>Major Topics 3=%{customdata[5]}<extra></extra>",
         "locations": [
          "BEN",
          "BFA",
          "BLR",
          "BTN",
          "CIV",
          "COG",
          "CZE",
          "DJI",
          "DMA",
          "ETH",
          "FJI",
          "GHA",
          "GIN",
          "GNQ",
          "GRD",
          "HTI",
          "HUN",
          "IDN",
          "IRQ",
          "JOR",
          "KNA",
          "KOR",
          "LBR",
          "LIE",
          "LUX",
          "LVA",
          "NPL",
          "PRT",
          "RUS",
          "SEN",
          "SRB",
          "SSD",
          "STP",
          "SWZ",
          "TGO",
          "VNM"
         ],
         "name": "terrorism ,South ,fight ,Sahel ,rule ,nations ",
         "showlegend": true,
         "showscale": false,
         "type": "choropleth",
         "z": [
          1,
          1,
          1,
          1,
          1,
          1,
          1,
          1,
          1,
          1,
          1,
          1,
          1,
          1,
          1,
          1,
          1,
          1,
          1,
          1,
          1,
          1,
          1,
          1,
          1,
          1,
          1,
          1,
          1,
          1,
          1,
          1,
          1,
          1,
          1,
          1
         ]
        },
        {
         "colorscale": [
          [
           0,
           "#FE00FA"
          ],
          [
           1,
           "#FE00FA"
          ]
         ],
         "customdata": [
          [
           -8.061176103985108,
           "CLUSTER 10",
           0.3171694748066901,
           "Cyprus ,Turkish ,European ,climate ,justice ,refugees ",
           "Israeli ,militias ,impose ,coalition ,African ,Saudi ",
           "regime ,Iranian ,kill ,climate ,Libyan ,war "
          ],
          [
           -8.061176103985108,
           "CLUSTER 10",
           0.3171694748066901,
           "Cyprus ,Turkish ,European ,climate ,justice ,refugees ",
           "Israeli ,militias ,impose ,coalition ,African ,Saudi ",
           "regime ,Iranian ,kill ,climate ,Libyan ,war "
          ],
          [
           -8.061176103985108,
           "CLUSTER 10",
           0.3171694748066901,
           "Cyprus ,Turkish ,European ,climate ,justice ,refugees ",
           "Israeli ,militias ,impose ,coalition ,African ,Saudi ",
           "regime ,Iranian ,kill ,climate ,Libyan ,war "
          ],
          [
           -8.061176103985108,
           "CLUSTER 10",
           0.3171694748066901,
           "Cyprus ,Turkish ,European ,climate ,justice ,refugees ",
           "Israeli ,militias ,impose ,coalition ,African ,Saudi ",
           "regime ,Iranian ,kill ,climate ,Libyan ,war "
          ],
          [
           -8.061176103985108,
           "CLUSTER 10",
           0.3171694748066901,
           "Cyprus ,Turkish ,European ,climate ,justice ,refugees ",
           "Israeli ,militias ,impose ,coalition ,African ,Saudi ",
           "regime ,Iranian ,kill ,climate ,Libyan ,war "
          ],
          [
           -8.061176103985108,
           "CLUSTER 10",
           0.3171694748066901,
           "Cyprus ,Turkish ,European ,climate ,justice ,refugees ",
           "Israeli ,militias ,impose ,coalition ,African ,Saudi ",
           "regime ,Iranian ,kill ,climate ,Libyan ,war "
          ],
          [
           -8.061176103985108,
           "CLUSTER 10",
           0.3171694748066901,
           "Cyprus ,Turkish ,European ,climate ,justice ,refugees ",
           "Israeli ,militias ,impose ,coalition ,African ,Saudi ",
           "regime ,Iranian ,kill ,climate ,Libyan ,war "
          ],
          [
           -8.061176103985108,
           "CLUSTER 10",
           0.3171694748066901,
           "Cyprus ,Turkish ,European ,climate ,justice ,refugees ",
           "Israeli ,militias ,impose ,coalition ,African ,Saudi ",
           "regime ,Iranian ,kill ,climate ,Libyan ,war "
          ],
          [
           -8.061176103985108,
           "CLUSTER 10",
           0.3171694748066901,
           "Cyprus ,Turkish ,European ,climate ,justice ,refugees ",
           "Israeli ,militias ,impose ,coalition ,African ,Saudi ",
           "regime ,Iranian ,kill ,climate ,Libyan ,war "
          ],
          [
           -8.061176103985108,
           "CLUSTER 10",
           0.3171694748066901,
           "Cyprus ,Turkish ,European ,climate ,justice ,refugees ",
           "Israeli ,militias ,impose ,coalition ,African ,Saudi ",
           "regime ,Iranian ,kill ,climate ,Libyan ,war "
          ],
          [
           -8.061176103985108,
           "CLUSTER 10",
           0.3171694748066901,
           "Cyprus ,Turkish ,European ,climate ,justice ,refugees ",
           "Israeli ,militias ,impose ,coalition ,African ,Saudi ",
           "regime ,Iranian ,kill ,climate ,Libyan ,war "
          ],
          [
           -8.061176103985108,
           "CLUSTER 10",
           0.3171694748066901,
           "Cyprus ,Turkish ,European ,climate ,justice ,refugees ",
           "Israeli ,militias ,impose ,coalition ,African ,Saudi ",
           "regime ,Iranian ,kill ,climate ,Libyan ,war "
          ],
          [
           -8.061176103985108,
           "CLUSTER 10",
           0.3171694748066901,
           "Cyprus ,Turkish ,European ,climate ,justice ,refugees ",
           "Israeli ,militias ,impose ,coalition ,African ,Saudi ",
           "regime ,Iranian ,kill ,climate ,Libyan ,war "
          ],
          [
           -8.061176103985108,
           "CLUSTER 10",
           0.3171694748066901,
           "Cyprus ,Turkish ,European ,climate ,justice ,refugees ",
           "Israeli ,militias ,impose ,coalition ,African ,Saudi ",
           "regime ,Iranian ,kill ,climate ,Libyan ,war "
          ],
          [
           -8.061176103985108,
           "CLUSTER 10",
           0.3171694748066901,
           "Cyprus ,Turkish ,European ,climate ,justice ,refugees ",
           "Israeli ,militias ,impose ,coalition ,African ,Saudi ",
           "regime ,Iranian ,kill ,climate ,Libyan ,war "
          ],
          [
           -8.061176103985108,
           "CLUSTER 10",
           0.3171694748066901,
           "Cyprus ,Turkish ,European ,climate ,justice ,refugees ",
           "Israeli ,militias ,impose ,coalition ,African ,Saudi ",
           "regime ,Iranian ,kill ,climate ,Libyan ,war "
          ],
          [
           -8.061176103985108,
           "CLUSTER 10",
           0.3171694748066901,
           "Cyprus ,Turkish ,European ,climate ,justice ,refugees ",
           "Israeli ,militias ,impose ,coalition ,African ,Saudi ",
           "regime ,Iranian ,kill ,climate ,Libyan ,war "
          ]
         ],
         "geo": "geo",
         "hovertemplate": "Discussion Topics=Iranian ,Turkish ,militias ,regime ,Cyprus ,Israeli <br>ISO Code=%{location}<br>Perplexity Score=%{customdata[0]}<br>index=%{customdata[1]}<br>Coherence Score=%{customdata[2]}<br>Major Topics 1=%{customdata[3]}<br>Major Topics 2=%{customdata[4]}<br>Major Topics 3=%{customdata[5]}<extra></extra>",
         "locations": [
          "BHR",
          "CYP",
          "EGY",
          "GRC",
          "IRN",
          "ISR",
          "KWT",
          "LBN",
          "LBY",
          "MMR",
          "MYS",
          "PSE",
          "QAT",
          "SAU",
          "SYR",
          "TUR",
          "YEM"
         ],
         "name": "Iranian ,Turkish ,militias ,regime ,Cyprus ,Israeli ",
         "showlegend": true,
         "showscale": false,
         "type": "choropleth",
         "z": [
          1,
          1,
          1,
          1,
          1,
          1,
          1,
          1,
          1,
          1,
          1,
          1,
          1,
          1,
          1,
          1,
          1
         ]
        },
        {
         "colorscale": [
          [
           0,
           "#325A9B"
          ],
          [
           1,
           "#325A9B"
          ]
         ],
         "customdata": [
          [
           -7.572812648816696,
           "CLUSTER 6",
           0.3686401739727517,
           "European ,North ,Macedonia ,combat ,activities ,migration ",
           "Kyrgyz ,neutrality ,Transnistrian ,solve ,problem ,force ",
           "drug ,Dushanbe ,traffic ,conference ,nuclear ,grow "
          ],
          [
           -7.572812648816696,
           "CLUSTER 6",
           0.3686401739727517,
           "European ,North ,Macedonia ,combat ,activities ,migration ",
           "Kyrgyz ,neutrality ,Transnistrian ,solve ,problem ,force ",
           "drug ,Dushanbe ,traffic ,conference ,nuclear ,grow "
          ],
          [
           -7.572812648816696,
           "CLUSTER 6",
           0.3686401739727517,
           "European ,North ,Macedonia ,combat ,activities ,migration ",
           "Kyrgyz ,neutrality ,Transnistrian ,solve ,problem ,force ",
           "drug ,Dushanbe ,traffic ,conference ,nuclear ,grow "
          ],
          [
           -7.572812648816696,
           "CLUSTER 6",
           0.3686401739727517,
           "European ,North ,Macedonia ,combat ,activities ,migration ",
           "Kyrgyz ,neutrality ,Transnistrian ,solve ,problem ,force ",
           "drug ,Dushanbe ,traffic ,conference ,nuclear ,grow "
          ],
          [
           -7.572812648816696,
           "CLUSTER 6",
           0.3686401739727517,
           "European ,North ,Macedonia ,combat ,activities ,migration ",
           "Kyrgyz ,neutrality ,Transnistrian ,solve ,problem ,force ",
           "drug ,Dushanbe ,traffic ,conference ,nuclear ,grow "
          ],
          [
           -7.572812648816696,
           "CLUSTER 6",
           0.3686401739727517,
           "European ,North ,Macedonia ,combat ,activities ,migration ",
           "Kyrgyz ,neutrality ,Transnistrian ,solve ,problem ,force ",
           "drug ,Dushanbe ,traffic ,conference ,nuclear ,grow "
          ],
          [
           -7.572812648816696,
           "CLUSTER 6",
           0.3686401739727517,
           "European ,North ,Macedonia ,combat ,activities ,migration ",
           "Kyrgyz ,neutrality ,Transnistrian ,solve ,problem ,force ",
           "drug ,Dushanbe ,traffic ,conference ,nuclear ,grow "
          ]
         ],
         "geo": "geo",
         "hovertemplate": "Discussion Topics=North ,Dushanbe ,neutrality ,drug ,European ,Kyrgyz <br>ISO Code=%{location}<br>Perplexity Score=%{customdata[0]}<br>index=%{customdata[1]}<br>Coherence Score=%{customdata[2]}<br>Major Topics 1=%{customdata[3]}<br>Major Topics 2=%{customdata[4]}<br>Major Topics 3=%{customdata[5]}<extra></extra>",
         "locations": [
          "BIH",
          "KAZ",
          "KGZ",
          "MDA",
          "MKD",
          "TJK",
          "TKM"
         ],
         "name": "North ,Dushanbe ,neutrality ,drug ,European ,Kyrgyz ",
         "showlegend": true,
         "showscale": false,
         "type": "choropleth",
         "z": [
          1,
          1,
          1,
          1,
          1,
          1,
          1
         ]
        },
        {
         "colorscale": [
          [
           0,
           "#FEAF16"
          ],
          [
           1,
           "#FEAF16"
          ]
         ],
         "customdata": [
          [
           -8.289141291057076,
           "CLUSTER 7",
           0.35474630702192034,
           "indigenous ,Republic ,Cuban ,Brazilian ,sovereignty ,military ",
           "measure ,entire ,Venezuelan ,women ,message ,meet ",
           "Muslims ,Kashmir ,Islam ,Muslim ,Zealand ,happen "
          ],
          [
           -8.289141291057076,
           "CLUSTER 7",
           0.35474630702192034,
           "indigenous ,Republic ,Cuban ,Brazilian ,sovereignty ,military ",
           "measure ,entire ,Venezuelan ,women ,message ,meet ",
           "Muslims ,Kashmir ,Islam ,Muslim ,Zealand ,happen "
          ],
          [
           -8.289141291057076,
           "CLUSTER 7",
           0.35474630702192034,
           "indigenous ,Republic ,Cuban ,Brazilian ,sovereignty ,military ",
           "measure ,entire ,Venezuelan ,women ,message ,meet ",
           "Muslims ,Kashmir ,Islam ,Muslim ,Zealand ,happen "
          ],
          [
           -8.289141291057076,
           "CLUSTER 7",
           0.35474630702192034,
           "indigenous ,Republic ,Cuban ,Brazilian ,sovereignty ,military ",
           "measure ,entire ,Venezuelan ,women ,message ,meet ",
           "Muslims ,Kashmir ,Islam ,Muslim ,Zealand ,happen "
          ],
          [
           -8.289141291057076,
           "CLUSTER 7",
           0.35474630702192034,
           "indigenous ,Republic ,Cuban ,Brazilian ,sovereignty ,military ",
           "measure ,entire ,Venezuelan ,women ,message ,meet ",
           "Muslims ,Kashmir ,Islam ,Muslim ,Zealand ,happen "
          ],
          [
           -8.289141291057076,
           "CLUSTER 7",
           0.35474630702192034,
           "indigenous ,Republic ,Cuban ,Brazilian ,sovereignty ,military ",
           "measure ,entire ,Venezuelan ,women ,message ,meet ",
           "Muslims ,Kashmir ,Islam ,Muslim ,Zealand ,happen "
          ],
          [
           -8.289141291057076,
           "CLUSTER 7",
           0.35474630702192034,
           "indigenous ,Republic ,Cuban ,Brazilian ,sovereignty ,military ",
           "measure ,entire ,Venezuelan ,women ,message ,meet ",
           "Muslims ,Kashmir ,Islam ,Muslim ,Zealand ,happen "
          ],
          [
           -8.289141291057076,
           "CLUSTER 7",
           0.35474630702192034,
           "indigenous ,Republic ,Cuban ,Brazilian ,sovereignty ,military ",
           "measure ,entire ,Venezuelan ,women ,message ,meet ",
           "Muslims ,Kashmir ,Islam ,Muslim ,Zealand ,happen "
          ],
          [
           -8.289141291057076,
           "CLUSTER 7",
           0.35474630702192034,
           "indigenous ,Republic ,Cuban ,Brazilian ,sovereignty ,military ",
           "measure ,entire ,Venezuelan ,women ,message ,meet ",
           "Muslims ,Kashmir ,Islam ,Muslim ,Zealand ,happen "
          ],
          [
           -8.289141291057076,
           "CLUSTER 7",
           0.35474630702192034,
           "indigenous ,Republic ,Cuban ,Brazilian ,sovereignty ,military ",
           "measure ,entire ,Venezuelan ,women ,message ,meet ",
           "Muslims ,Kashmir ,Islam ,Muslim ,Zealand ,happen "
          ],
          [
           -8.289141291057076,
           "CLUSTER 7",
           0.35474630702192034,
           "indigenous ,Republic ,Cuban ,Brazilian ,sovereignty ,military ",
           "measure ,entire ,Venezuelan ,women ,message ,meet ",
           "Muslims ,Kashmir ,Islam ,Muslim ,Zealand ,happen "
          ],
          [
           -8.289141291057076,
           "CLUSTER 7",
           0.35474630702192034,
           "indigenous ,Republic ,Cuban ,Brazilian ,sovereignty ,military ",
           "measure ,entire ,Venezuelan ,women ,message ,meet ",
           "Muslims ,Kashmir ,Islam ,Muslim ,Zealand ,happen "
          ],
          [
           -8.289141291057076,
           "CLUSTER 7",
           0.35474630702192034,
           "indigenous ,Republic ,Cuban ,Brazilian ,sovereignty ,military ",
           "measure ,entire ,Venezuelan ,women ,message ,meet ",
           "Muslims ,Kashmir ,Islam ,Muslim ,Zealand ,happen "
          ],
          [
           -8.289141291057076,
           "CLUSTER 7",
           0.35474630702192034,
           "indigenous ,Republic ,Cuban ,Brazilian ,sovereignty ,military ",
           "measure ,entire ,Venezuelan ,women ,message ,meet ",
           "Muslims ,Kashmir ,Islam ,Muslim ,Zealand ,happen "
          ],
          [
           -8.289141291057076,
           "CLUSTER 7",
           0.35474630702192034,
           "indigenous ,Republic ,Cuban ,Brazilian ,sovereignty ,military ",
           "measure ,entire ,Venezuelan ,women ,message ,meet ",
           "Muslims ,Kashmir ,Islam ,Muslim ,Zealand ,happen "
          ],
          [
           -8.289141291057076,
           "CLUSTER 7",
           0.35474630702192034,
           "indigenous ,Republic ,Cuban ,Brazilian ,sovereignty ,military ",
           "measure ,entire ,Venezuelan ,women ,message ,meet ",
           "Muslims ,Kashmir ,Islam ,Muslim ,Zealand ,happen "
          ]
         ],
         "geo": "geo",
         "hovertemplate": "Discussion Topics=Muslims ,Kashmir ,measure ,indigenous ,entire ,Republic <br>ISO Code=%{location}<br>Perplexity Score=%{customdata[0]}<br>index=%{customdata[1]}<br>Coherence Score=%{customdata[2]}<br>Major Topics 1=%{customdata[3]}<br>Major Topics 2=%{customdata[4]}<br>Major Topics 3=%{customdata[5]}<extra></extra>",
         "locations": [
          "BRA",
          "COL",
          "CUB",
          "EU",
          "GBR",
          "GTM",
          "IND",
          "JPN",
          "NZL",
          "PAK",
          "PAN",
          "PRK",
          "SLV",
          "UKR",
          "USA",
          "VEN"
         ],
         "name": "Muslims ,Kashmir ,measure ,indigenous ,entire ,Republic ",
         "showlegend": true,
         "showscale": false,
         "type": "choropleth",
         "z": [
          1,
          1,
          1,
          1,
          1,
          1,
          1,
          1,
          1,
          1,
          1,
          1,
          1,
          1,
          1,
          1
         ]
        },
        {
         "colorscale": [
          [
           0,
           "#F8A19F"
          ],
          [
           1,
           "#F8A19F"
          ]
         ],
         "customdata": [
          [
           -7.767795850399842,
           "CLUSTER 12",
           0.3572248478354692,
           "talk ,sustainability ,Council ,process ,women ,disarmament ",
           "develop ,Africa ,problems ,current ,market ,region ",
           "fight ,know ,drug ,crime ,State ,interference "
          ],
          [
           -7.767795850399842,
           "CLUSTER 12",
           0.3572248478354692,
           "talk ,sustainability ,Council ,process ,women ,disarmament ",
           "develop ,Africa ,problems ,current ,market ,region ",
           "fight ,know ,drug ,crime ,State ,interference "
          ],
          [
           -7.767795850399842,
           "CLUSTER 12",
           0.3572248478354692,
           "talk ,sustainability ,Council ,process ,women ,disarmament ",
           "develop ,Africa ,problems ,current ,market ,region ",
           "fight ,know ,drug ,crime ,State ,interference "
          ],
          [
           -7.767795850399842,
           "CLUSTER 12",
           0.3572248478354692,
           "talk ,sustainability ,Council ,process ,women ,disarmament ",
           "develop ,Africa ,problems ,current ,market ,region ",
           "fight ,know ,drug ,crime ,State ,interference "
          ],
          [
           -7.767795850399842,
           "CLUSTER 12",
           0.3572248478354692,
           "talk ,sustainability ,Council ,process ,women ,disarmament ",
           "develop ,Africa ,problems ,current ,market ,region ",
           "fight ,know ,drug ,crime ,State ,interference "
          ],
          [
           -7.767795850399842,
           "CLUSTER 12",
           0.3572248478354692,
           "talk ,sustainability ,Council ,process ,women ,disarmament ",
           "develop ,Africa ,problems ,current ,market ,region ",
           "fight ,know ,drug ,crime ,State ,interference "
          ],
          [
           -7.767795850399842,
           "CLUSTER 12",
           0.3572248478354692,
           "talk ,sustainability ,Council ,process ,women ,disarmament ",
           "develop ,Africa ,problems ,current ,market ,region ",
           "fight ,know ,drug ,crime ,State ,interference "
          ]
         ],
         "geo": "geo",
         "hovertemplate": "Discussion Topics=know ,talk ,fight ,develop ,sustainability ,Africa <br>ISO Code=%{location}<br>Perplexity Score=%{customdata[0]}<br>index=%{customdata[1]}<br>Coherence Score=%{customdata[2]}<br>Major Topics 1=%{customdata[3]}<br>Major Topics 2=%{customdata[4]}<br>Major Topics 3=%{customdata[5]}<extra></extra>",
         "locations": [
          "BRN",
          "DEU",
          "ERI",
          "KHM",
          "PHL",
          "SGP",
          "THA"
         ],
         "name": "know ,talk ,fight ,develop ,sustainability ,Africa ",
         "showlegend": true,
         "showscale": false,
         "type": "choropleth",
         "z": [
          1,
          1,
          1,
          1,
          1,
          1,
          1
         ]
        },
        {
         "colorscale": [
          [
           0,
           "#90AD1C"
          ],
          [
           1,
           "#90AD1C"
          ]
         ],
         "customdata": [
          [
           -7.592075454734018,
           "CLUSTER 11",
           0.38319899103750793,
           "Gabon ,threats ,weapons ,sign ,recovery ,greater ",
           "create ,Summit ,SDGs ,Libyan ,establish ,north-west ",
           "Gabon ,greater ,finance ,expectations ,threats ,Ondimba "
          ],
          [
           -7.592075454734018,
           "CLUSTER 11",
           0.38319899103750793,
           "Gabon ,threats ,weapons ,sign ,recovery ,greater ",
           "create ,Summit ,SDGs ,Libyan ,establish ,north-west ",
           "Gabon ,greater ,finance ,expectations ,threats ,Ondimba "
          ],
          [
           -7.592075454734018,
           "CLUSTER 11",
           0.38319899103750793,
           "Gabon ,threats ,weapons ,sign ,recovery ,greater ",
           "create ,Summit ,SDGs ,Libyan ,establish ,north-west ",
           "Gabon ,greater ,finance ,expectations ,threats ,Ondimba "
          ],
          [
           -7.592075454734018,
           "CLUSTER 11",
           0.38319899103750793,
           "Gabon ,threats ,weapons ,sign ,recovery ,greater ",
           "create ,Summit ,SDGs ,Libyan ,establish ,north-west ",
           "Gabon ,greater ,finance ,expectations ,threats ,Ondimba "
          ],
          [
           -7.592075454734018,
           "CLUSTER 11",
           0.38319899103750793,
           "Gabon ,threats ,weapons ,sign ,recovery ,greater ",
           "create ,Summit ,SDGs ,Libyan ,establish ,north-west ",
           "Gabon ,greater ,finance ,expectations ,threats ,Ondimba "
          ]
         ],
         "geo": "geo",
         "hovertemplate": "Discussion Topics=Gabon ,Summit ,greater ,create ,threats <br>ISO Code=%{location}<br>Perplexity Score=%{customdata[0]}<br>index=%{customdata[1]}<br>Coherence Score=%{customdata[2]}<br>Major Topics 1=%{customdata[3]}<br>Major Topics 2=%{customdata[4]}<br>Major Topics 3=%{customdata[5]}<extra></extra>",
         "locations": [
          "CAF",
          "CMR",
          "GAB",
          "NER",
          "TCD"
         ],
         "name": "Gabon ,Summit ,greater ,create ,threats ",
         "showlegend": true,
         "showscale": false,
         "type": "choropleth",
         "z": [
          1,
          1,
          1,
          1,
          1
         ]
        },
        {
         "colorscale": [
          [
           0,
           "#F6222E"
          ],
          [
           1,
           "#F6222E"
          ]
         ],
         "customdata": [
          [
           -7.746807321156391,
           "CLUSTER 8",
           0.35085286318121206,
           "course ,life ,water ,occupation ,education ,trade ",
           "courage ,agenda ,region ,subject ,institutions ,fund ",
           "care ,nations ,globally ,ready ,benefit ,Security "
          ],
          [
           -7.746807321156391,
           "CLUSTER 8",
           0.35085286318121206,
           "course ,life ,water ,occupation ,education ,trade ",
           "courage ,agenda ,region ,subject ,institutions ,fund ",
           "care ,nations ,globally ,ready ,benefit ,Security "
          ],
          [
           -7.746807321156391,
           "CLUSTER 8",
           0.35085286318121206,
           "course ,life ,water ,occupation ,education ,trade ",
           "courage ,agenda ,region ,subject ,institutions ,fund ",
           "care ,nations ,globally ,ready ,benefit ,Security "
          ],
          [
           -7.746807321156391,
           "CLUSTER 8",
           0.35085286318121206,
           "course ,life ,water ,occupation ,education ,trade ",
           "courage ,agenda ,region ,subject ,institutions ,fund ",
           "care ,nations ,globally ,ready ,benefit ,Security "
          ],
          [
           -7.746807321156391,
           "CLUSTER 8",
           0.35085286318121206,
           "course ,life ,water ,occupation ,education ,trade ",
           "courage ,agenda ,region ,subject ,institutions ,fund ",
           "care ,nations ,globally ,ready ,benefit ,Security "
          ],
          [
           -7.746807321156391,
           "CLUSTER 8",
           0.35085286318121206,
           "course ,life ,water ,occupation ,education ,trade ",
           "courage ,agenda ,region ,subject ,institutions ,fund ",
           "care ,nations ,globally ,ready ,benefit ,Security "
          ],
          [
           -7.746807321156391,
           "CLUSTER 8",
           0.35085286318121206,
           "course ,life ,water ,occupation ,education ,trade ",
           "courage ,agenda ,region ,subject ,institutions ,fund ",
           "care ,nations ,globally ,ready ,benefit ,Security "
          ]
         ],
         "geo": "geo",
         "hovertemplate": "Discussion Topics=course ,courage ,life ,nations ,care ,agenda <br>ISO Code=%{location}<br>Perplexity Score=%{customdata[0]}<br>index=%{customdata[1]}<br>Coherence Score=%{customdata[2]}<br>Major Topics 1=%{customdata[3]}<br>Major Topics 2=%{customdata[4]}<br>Major Topics 3=%{customdata[5]}<extra></extra>",
         "locations": [
          "CHL",
          "EST",
          "FIN",
          "FRA",
          "GEO",
          "HND",
          "SVK"
         ],
         "name": "course ,courage ,life ,nations ,care ,agenda ",
         "showlegend": true,
         "showscale": false,
         "type": "choropleth",
         "z": [
          1,
          1,
          1,
          1,
          1,
          1,
          1
         ]
        }
       ],
       "layout": {
        "geo": {
         "center": {},
         "domain": {
          "x": [
           0,
           1
          ],
          "y": [
           0,
           1
          ]
         }
        },
        "height": 700,
        "legend": {
         "title": {
          "text": "Discussion Topics"
         },
         "tracegroupgap": 0
        },
        "template": {
         "data": {
          "bar": [
           {
            "error_x": {
             "color": "#2a3f5f"
            },
            "error_y": {
             "color": "#2a3f5f"
            },
            "marker": {
             "line": {
              "color": "#E5ECF6",
              "width": 0.5
             },
             "pattern": {
              "fillmode": "overlay",
              "size": 10,
              "solidity": 0.2
             }
            },
            "type": "bar"
           }
          ],
          "barpolar": [
           {
            "marker": {
             "line": {
              "color": "#E5ECF6",
              "width": 0.5
             },
             "pattern": {
              "fillmode": "overlay",
              "size": 10,
              "solidity": 0.2
             }
            },
            "type": "barpolar"
           }
          ],
          "carpet": [
           {
            "aaxis": {
             "endlinecolor": "#2a3f5f",
             "gridcolor": "white",
             "linecolor": "white",
             "minorgridcolor": "white",
             "startlinecolor": "#2a3f5f"
            },
            "baxis": {
             "endlinecolor": "#2a3f5f",
             "gridcolor": "white",
             "linecolor": "white",
             "minorgridcolor": "white",
             "startlinecolor": "#2a3f5f"
            },
            "type": "carpet"
           }
          ],
          "choropleth": [
           {
            "colorbar": {
             "outlinewidth": 0,
             "ticks": ""
            },
            "type": "choropleth"
           }
          ],
          "contour": [
           {
            "colorbar": {
             "outlinewidth": 0,
             "ticks": ""
            },
            "colorscale": [
             [
              0,
              "#0d0887"
             ],
             [
              0.1111111111111111,
              "#46039f"
             ],
             [
              0.2222222222222222,
              "#7201a8"
             ],
             [
              0.3333333333333333,
              "#9c179e"
             ],
             [
              0.4444444444444444,
              "#bd3786"
             ],
             [
              0.5555555555555556,
              "#d8576b"
             ],
             [
              0.6666666666666666,
              "#ed7953"
             ],
             [
              0.7777777777777778,
              "#fb9f3a"
             ],
             [
              0.8888888888888888,
              "#fdca26"
             ],
             [
              1,
              "#f0f921"
             ]
            ],
            "type": "contour"
           }
          ],
          "contourcarpet": [
           {
            "colorbar": {
             "outlinewidth": 0,
             "ticks": ""
            },
            "type": "contourcarpet"
           }
          ],
          "heatmap": [
           {
            "colorbar": {
             "outlinewidth": 0,
             "ticks": ""
            },
            "colorscale": [
             [
              0,
              "#0d0887"
             ],
             [
              0.1111111111111111,
              "#46039f"
             ],
             [
              0.2222222222222222,
              "#7201a8"
             ],
             [
              0.3333333333333333,
              "#9c179e"
             ],
             [
              0.4444444444444444,
              "#bd3786"
             ],
             [
              0.5555555555555556,
              "#d8576b"
             ],
             [
              0.6666666666666666,
              "#ed7953"
             ],
             [
              0.7777777777777778,
              "#fb9f3a"
             ],
             [
              0.8888888888888888,
              "#fdca26"
             ],
             [
              1,
              "#f0f921"
             ]
            ],
            "type": "heatmap"
           }
          ],
          "heatmapgl": [
           {
            "colorbar": {
             "outlinewidth": 0,
             "ticks": ""
            },
            "colorscale": [
             [
              0,
              "#0d0887"
             ],
             [
              0.1111111111111111,
              "#46039f"
             ],
             [
              0.2222222222222222,
              "#7201a8"
             ],
             [
              0.3333333333333333,
              "#9c179e"
             ],
             [
              0.4444444444444444,
              "#bd3786"
             ],
             [
              0.5555555555555556,
              "#d8576b"
             ],
             [
              0.6666666666666666,
              "#ed7953"
             ],
             [
              0.7777777777777778,
              "#fb9f3a"
             ],
             [
              0.8888888888888888,
              "#fdca26"
             ],
             [
              1,
              "#f0f921"
             ]
            ],
            "type": "heatmapgl"
           }
          ],
          "histogram": [
           {
            "marker": {
             "pattern": {
              "fillmode": "overlay",
              "size": 10,
              "solidity": 0.2
             }
            },
            "type": "histogram"
           }
          ],
          "histogram2d": [
           {
            "colorbar": {
             "outlinewidth": 0,
             "ticks": ""
            },
            "colorscale": [
             [
              0,
              "#0d0887"
             ],
             [
              0.1111111111111111,
              "#46039f"
             ],
             [
              0.2222222222222222,
              "#7201a8"
             ],
             [
              0.3333333333333333,
              "#9c179e"
             ],
             [
              0.4444444444444444,
              "#bd3786"
             ],
             [
              0.5555555555555556,
              "#d8576b"
             ],
             [
              0.6666666666666666,
              "#ed7953"
             ],
             [
              0.7777777777777778,
              "#fb9f3a"
             ],
             [
              0.8888888888888888,
              "#fdca26"
             ],
             [
              1,
              "#f0f921"
             ]
            ],
            "type": "histogram2d"
           }
          ],
          "histogram2dcontour": [
           {
            "colorbar": {
             "outlinewidth": 0,
             "ticks": ""
            },
            "colorscale": [
             [
              0,
              "#0d0887"
             ],
             [
              0.1111111111111111,
              "#46039f"
             ],
             [
              0.2222222222222222,
              "#7201a8"
             ],
             [
              0.3333333333333333,
              "#9c179e"
             ],
             [
              0.4444444444444444,
              "#bd3786"
             ],
             [
              0.5555555555555556,
              "#d8576b"
             ],
             [
              0.6666666666666666,
              "#ed7953"
             ],
             [
              0.7777777777777778,
              "#fb9f3a"
             ],
             [
              0.8888888888888888,
              "#fdca26"
             ],
             [
              1,
              "#f0f921"
             ]
            ],
            "type": "histogram2dcontour"
           }
          ],
          "mesh3d": [
           {
            "colorbar": {
             "outlinewidth": 0,
             "ticks": ""
            },
            "type": "mesh3d"
           }
          ],
          "parcoords": [
           {
            "line": {
             "colorbar": {
              "outlinewidth": 0,
              "ticks": ""
             }
            },
            "type": "parcoords"
           }
          ],
          "pie": [
           {
            "automargin": true,
            "type": "pie"
           }
          ],
          "scatter": [
           {
            "fillpattern": {
             "fillmode": "overlay",
             "size": 10,
             "solidity": 0.2
            },
            "type": "scatter"
           }
          ],
          "scatter3d": [
           {
            "line": {
             "colorbar": {
              "outlinewidth": 0,
              "ticks": ""
             }
            },
            "marker": {
             "colorbar": {
              "outlinewidth": 0,
              "ticks": ""
             }
            },
            "type": "scatter3d"
           }
          ],
          "scattercarpet": [
           {
            "marker": {
             "colorbar": {
              "outlinewidth": 0,
              "ticks": ""
             }
            },
            "type": "scattercarpet"
           }
          ],
          "scattergeo": [
           {
            "marker": {
             "colorbar": {
              "outlinewidth": 0,
              "ticks": ""
             }
            },
            "type": "scattergeo"
           }
          ],
          "scattergl": [
           {
            "marker": {
             "colorbar": {
              "outlinewidth": 0,
              "ticks": ""
             }
            },
            "type": "scattergl"
           }
          ],
          "scattermapbox": [
           {
            "marker": {
             "colorbar": {
              "outlinewidth": 0,
              "ticks": ""
             }
            },
            "type": "scattermapbox"
           }
          ],
          "scatterpolar": [
           {
            "marker": {
             "colorbar": {
              "outlinewidth": 0,
              "ticks": ""
             }
            },
            "type": "scatterpolar"
           }
          ],
          "scatterpolargl": [
           {
            "marker": {
             "colorbar": {
              "outlinewidth": 0,
              "ticks": ""
             }
            },
            "type": "scatterpolargl"
           }
          ],
          "scatterternary": [
           {
            "marker": {
             "colorbar": {
              "outlinewidth": 0,
              "ticks": ""
             }
            },
            "type": "scatterternary"
           }
          ],
          "surface": [
           {
            "colorbar": {
             "outlinewidth": 0,
             "ticks": ""
            },
            "colorscale": [
             [
              0,
              "#0d0887"
             ],
             [
              0.1111111111111111,
              "#46039f"
             ],
             [
              0.2222222222222222,
              "#7201a8"
             ],
             [
              0.3333333333333333,
              "#9c179e"
             ],
             [
              0.4444444444444444,
              "#bd3786"
             ],
             [
              0.5555555555555556,
              "#d8576b"
             ],
             [
              0.6666666666666666,
              "#ed7953"
             ],
             [
              0.7777777777777778,
              "#fb9f3a"
             ],
             [
              0.8888888888888888,
              "#fdca26"
             ],
             [
              1,
              "#f0f921"
             ]
            ],
            "type": "surface"
           }
          ],
          "table": [
           {
            "cells": {
             "fill": {
              "color": "#EBF0F8"
             },
             "line": {
              "color": "white"
             }
            },
            "header": {
             "fill": {
              "color": "#C8D4E3"
             },
             "line": {
              "color": "white"
             }
            },
            "type": "table"
           }
          ]
         },
         "layout": {
          "annotationdefaults": {
           "arrowcolor": "#2a3f5f",
           "arrowhead": 0,
           "arrowwidth": 1
          },
          "autotypenumbers": "strict",
          "coloraxis": {
           "colorbar": {
            "outlinewidth": 0,
            "ticks": ""
           }
          },
          "colorscale": {
           "diverging": [
            [
             0,
             "#8e0152"
            ],
            [
             0.1,
             "#c51b7d"
            ],
            [
             0.2,
             "#de77ae"
            ],
            [
             0.3,
             "#f1b6da"
            ],
            [
             0.4,
             "#fde0ef"
            ],
            [
             0.5,
             "#f7f7f7"
            ],
            [
             0.6,
             "#e6f5d0"
            ],
            [
             0.7,
             "#b8e186"
            ],
            [
             0.8,
             "#7fbc41"
            ],
            [
             0.9,
             "#4d9221"
            ],
            [
             1,
             "#276419"
            ]
           ],
           "sequential": [
            [
             0,
             "#0d0887"
            ],
            [
             0.1111111111111111,
             "#46039f"
            ],
            [
             0.2222222222222222,
             "#7201a8"
            ],
            [
             0.3333333333333333,
             "#9c179e"
            ],
            [
             0.4444444444444444,
             "#bd3786"
            ],
            [
             0.5555555555555556,
             "#d8576b"
            ],
            [
             0.6666666666666666,
             "#ed7953"
            ],
            [
             0.7777777777777778,
             "#fb9f3a"
            ],
            [
             0.8888888888888888,
             "#fdca26"
            ],
            [
             1,
             "#f0f921"
            ]
           ],
           "sequentialminus": [
            [
             0,
             "#0d0887"
            ],
            [
             0.1111111111111111,
             "#46039f"
            ],
            [
             0.2222222222222222,
             "#7201a8"
            ],
            [
             0.3333333333333333,
             "#9c179e"
            ],
            [
             0.4444444444444444,
             "#bd3786"
            ],
            [
             0.5555555555555556,
             "#d8576b"
            ],
            [
             0.6666666666666666,
             "#ed7953"
            ],
            [
             0.7777777777777778,
             "#fb9f3a"
            ],
            [
             0.8888888888888888,
             "#fdca26"
            ],
            [
             1,
             "#f0f921"
            ]
           ]
          },
          "colorway": [
           "#636efa",
           "#EF553B",
           "#00cc96",
           "#ab63fa",
           "#FFA15A",
           "#19d3f3",
           "#FF6692",
           "#B6E880",
           "#FF97FF",
           "#FECB52"
          ],
          "font": {
           "color": "#2a3f5f"
          },
          "geo": {
           "bgcolor": "white",
           "lakecolor": "white",
           "landcolor": "#E5ECF6",
           "showlakes": true,
           "showland": true,
           "subunitcolor": "white"
          },
          "hoverlabel": {
           "align": "left"
          },
          "hovermode": "closest",
          "mapbox": {
           "style": "light"
          },
          "paper_bgcolor": "white",
          "plot_bgcolor": "#E5ECF6",
          "polar": {
           "angularaxis": {
            "gridcolor": "white",
            "linecolor": "white",
            "ticks": ""
           },
           "bgcolor": "#E5ECF6",
           "radialaxis": {
            "gridcolor": "white",
            "linecolor": "white",
            "ticks": ""
           }
          },
          "scene": {
           "xaxis": {
            "backgroundcolor": "#E5ECF6",
            "gridcolor": "white",
            "gridwidth": 2,
            "linecolor": "white",
            "showbackground": true,
            "ticks": "",
            "zerolinecolor": "white"
           },
           "yaxis": {
            "backgroundcolor": "#E5ECF6",
            "gridcolor": "white",
            "gridwidth": 2,
            "linecolor": "white",
            "showbackground": true,
            "ticks": "",
            "zerolinecolor": "white"
           },
           "zaxis": {
            "backgroundcolor": "#E5ECF6",
            "gridcolor": "white",
            "gridwidth": 2,
            "linecolor": "white",
            "showbackground": true,
            "ticks": "",
            "zerolinecolor": "white"
           }
          },
          "shapedefaults": {
           "line": {
            "color": "#2a3f5f"
           }
          },
          "ternary": {
           "aaxis": {
            "gridcolor": "white",
            "linecolor": "white",
            "ticks": ""
           },
           "baxis": {
            "gridcolor": "white",
            "linecolor": "white",
            "ticks": ""
           },
           "bgcolor": "#E5ECF6",
           "caxis": {
            "gridcolor": "white",
            "linecolor": "white",
            "ticks": ""
           }
          },
          "title": {
           "x": 0.05
          },
          "xaxis": {
           "automargin": true,
           "gridcolor": "white",
           "linecolor": "white",
           "ticks": "",
           "title": {
            "standoff": 15
           },
           "zerolinecolor": "white",
           "zerolinewidth": 2
          },
          "yaxis": {
           "automargin": true,
           "gridcolor": "white",
           "linecolor": "white",
           "ticks": "",
           "title": {
            "standoff": 15
           },
           "zerolinecolor": "white",
           "zerolinewidth": 2
          }
         }
        },
        "title": {
         "text": "Major Topics in 2019 UNGA Speeches"
        },
        "width": 1300
       }
      },
      "text/html": [
       "<div>                            <div id=\"e4eb9115-8d8c-4614-92f0-44dbf006d6b6\" class=\"plotly-graph-div\" style=\"height:700px; width:1300px;\"></div>            <script type=\"text/javascript\">                require([\"plotly\"], function(Plotly) {                    window.PLOTLYENV=window.PLOTLYENV || {};                                    if (document.getElementById(\"e4eb9115-8d8c-4614-92f0-44dbf006d6b6\")) {                    Plotly.newPlot(                        \"e4eb9115-8d8c-4614-92f0-44dbf006d6b6\",                        [{\"colorscale\":[[0.0,\"#AA0DFE\"],[1.0,\"#AA0DFE\"]],\"customdata\":[[-8.220529901604925,\"CLUSTER 9\",0.3448962179131853,\"Afghan ,SIDS ,Afghans ,vote ,emissions ,fish \",\"Islands ,Vanuatu ,importance ,Marshall ,SDGs ,policy \",\"Islands ,Solomon ,SIDS ,fish ,opportunities ,project \"],[-8.220529901604925,\"CLUSTER 9\",0.3448962179131853,\"Afghan ,SIDS ,Afghans ,vote ,emissions ,fish \",\"Islands ,Vanuatu ,importance ,Marshall ,SDGs ,policy \",\"Islands ,Solomon ,SIDS ,fish ,opportunities ,project \"],[-8.220529901604925,\"CLUSTER 9\",0.3448962179131853,\"Afghan ,SIDS ,Afghans ,vote ,emissions ,fish \",\"Islands ,Vanuatu ,importance ,Marshall ,SDGs ,policy \",\"Islands ,Solomon ,SIDS ,fish ,opportunities ,project \"],[-8.220529901604925,\"CLUSTER 9\",0.3448962179131853,\"Afghan ,SIDS ,Afghans ,vote ,emissions ,fish \",\"Islands ,Vanuatu ,importance ,Marshall ,SDGs ,policy \",\"Islands ,Solomon ,SIDS ,fish ,opportunities ,project \"],[-8.220529901604925,\"CLUSTER 9\",0.3448962179131853,\"Afghan ,SIDS ,Afghans ,vote ,emissions ,fish \",\"Islands ,Vanuatu ,importance ,Marshall ,SDGs ,policy \",\"Islands ,Solomon ,SIDS ,fish ,opportunities ,project \"],[-8.220529901604925,\"CLUSTER 9\",0.3448962179131853,\"Afghan ,SIDS ,Afghans ,vote ,emissions ,fish \",\"Islands ,Vanuatu ,importance ,Marshall ,SDGs ,policy \",\"Islands ,Solomon ,SIDS ,fish ,opportunities ,project \"],[-8.220529901604925,\"CLUSTER 9\",0.3448962179131853,\"Afghan ,SIDS ,Afghans ,vote ,emissions ,fish \",\"Islands ,Vanuatu ,importance ,Marshall ,SDGs ,policy \",\"Islands ,Solomon ,SIDS ,fish ,opportunities ,project \"],[-8.220529901604925,\"CLUSTER 9\",0.3448962179131853,\"Afghan ,SIDS ,Afghans ,vote ,emissions ,fish \",\"Islands ,Vanuatu ,importance ,Marshall ,SDGs ,policy \",\"Islands ,Solomon ,SIDS ,fish ,opportunities ,project \"],[-8.220529901604925,\"CLUSTER 9\",0.3448962179131853,\"Afghan ,SIDS ,Afghans ,vote ,emissions ,fish \",\"Islands ,Vanuatu ,importance ,Marshall ,SDGs ,policy \",\"Islands ,Solomon ,SIDS ,fish ,opportunities ,project \"],[-8.220529901604925,\"CLUSTER 9\",0.3448962179131853,\"Afghan ,SIDS ,Afghans ,vote ,emissions ,fish \",\"Islands ,Vanuatu ,importance ,Marshall ,SDGs ,policy \",\"Islands ,Solomon ,SIDS ,fish ,opportunities ,project \"],[-8.220529901604925,\"CLUSTER 9\",0.3448962179131853,\"Afghan ,SIDS ,Afghans ,vote ,emissions ,fish \",\"Islands ,Vanuatu ,importance ,Marshall ,SDGs ,policy \",\"Islands ,Solomon ,SIDS ,fish ,opportunities ,project \"],[-8.220529901604925,\"CLUSTER 9\",0.3448962179131853,\"Afghan ,SIDS ,Afghans ,vote ,emissions ,fish \",\"Islands ,Vanuatu ,importance ,Marshall ,SDGs ,policy \",\"Islands ,Solomon ,SIDS ,fish ,opportunities ,project \"],[-8.220529901604925,\"CLUSTER 9\",0.3448962179131853,\"Afghan ,SIDS ,Afghans ,vote ,emissions ,fish \",\"Islands ,Vanuatu ,importance ,Marshall ,SDGs ,policy \",\"Islands ,Solomon ,SIDS ,fish ,opportunities ,project \"],[-8.220529901604925,\"CLUSTER 9\",0.3448962179131853,\"Afghan ,SIDS ,Afghans ,vote ,emissions ,fish \",\"Islands ,Vanuatu ,importance ,Marshall ,SDGs ,policy \",\"Islands ,Solomon ,SIDS ,fish ,opportunities ,project \"],[-8.220529901604925,\"CLUSTER 9\",0.3448962179131853,\"Afghan ,SIDS ,Afghans ,vote ,emissions ,fish \",\"Islands ,Vanuatu ,importance ,Marshall ,SDGs ,policy \",\"Islands ,Solomon ,SIDS ,fish ,opportunities ,project \"],[-8.220529901604925,\"CLUSTER 9\",0.3448962179131853,\"Afghan ,SIDS ,Afghans ,vote ,emissions ,fish \",\"Islands ,Vanuatu ,importance ,Marshall ,SDGs ,policy \",\"Islands ,Solomon ,SIDS ,fish ,opportunities ,project \"],[-8.220529901604925,\"CLUSTER 9\",0.3448962179131853,\"Afghan ,SIDS ,Afghans ,vote ,emissions ,fish \",\"Islands ,Vanuatu ,importance ,Marshall ,SDGs ,policy \",\"Islands ,Solomon ,SIDS ,fish ,opportunities ,project \"],[-8.220529901604925,\"CLUSTER 9\",0.3448962179131853,\"Afghan ,SIDS ,Afghans ,vote ,emissions ,fish \",\"Islands ,Vanuatu ,importance ,Marshall ,SDGs ,policy \",\"Islands ,Solomon ,SIDS ,fish ,opportunities ,project \"],[-8.220529901604925,\"CLUSTER 9\",0.3448962179131853,\"Afghan ,SIDS ,Afghans ,vote ,emissions ,fish \",\"Islands ,Vanuatu ,importance ,Marshall ,SDGs ,policy \",\"Islands ,Solomon ,SIDS ,fish ,opportunities ,project \"]],\"geo\":\"geo\",\"hovertemplate\":\"Discussion Topics=Solomon ,Vanuatu ,SIDS ,Afghan ,Islands <br>ISO Code=%{location}<br>Perplexity Score=%{customdata[0]}<br>index=%{customdata[1]}<br>Coherence Score=%{customdata[2]}<br>Major Topics 1=%{customdata[3]}<br>Major Topics 2=%{customdata[4]}<br>Major Topics 3=%{customdata[5]}<extra></extra>\",\"locations\":[\"AFG\",\"AUS\",\"BHS\",\"BLZ\",\"COM\",\"FSM\",\"HRV\",\"KIR\",\"MDV\",\"MHL\",\"NRU\",\"PLW\",\"PNG\",\"SLB\",\"SYC\",\"TON\",\"TUV\",\"VUT\",\"WSM\"],\"name\":\"Solomon ,Vanuatu ,SIDS ,Afghan ,Islands \",\"showlegend\":true,\"showscale\":false,\"z\":[1,1,1,1,1,1,1,1,1,1,1,1,1,1,1,1,1,1,1],\"type\":\"choropleth\"},{\"colorscale\":[[0.0,\"#565656\"],[1.0,\"#565656\"]],\"customdata\":[[-8.186497039025673,\"CLUSTER 0\",0.3449276927548772,\"region ,Nagorno ,Karabakh ,revolution ,refugees ,environment \",\"South ,2020 ,elections ,Republic ,continent ,solidarity \",\"health ,school ,cost ,prosperity ,million ,critical \"],[-8.186497039025673,\"CLUSTER 0\",0.3449276927548772,\"region ,Nagorno ,Karabakh ,revolution ,refugees ,environment \",\"South ,2020 ,elections ,Republic ,continent ,solidarity \",\"health ,school ,cost ,prosperity ,million ,critical \"],[-8.186497039025673,\"CLUSTER 0\",0.3449276927548772,\"region ,Nagorno ,Karabakh ,revolution ,refugees ,environment \",\"South ,2020 ,elections ,Republic ,continent ,solidarity \",\"health ,school ,cost ,prosperity ,million ,critical \"],[-8.186497039025673,\"CLUSTER 0\",0.3449276927548772,\"region ,Nagorno ,Karabakh ,revolution ,refugees ,environment \",\"South ,2020 ,elections ,Republic ,continent ,solidarity \",\"health ,school ,cost ,prosperity ,million ,critical \"],[-8.186497039025673,\"CLUSTER 0\",0.3449276927548772,\"region ,Nagorno ,Karabakh ,revolution ,refugees ,environment \",\"South ,2020 ,elections ,Republic ,continent ,solidarity \",\"health ,school ,cost ,prosperity ,million ,critical \"],[-8.186497039025673,\"CLUSTER 0\",0.3449276927548772,\"region ,Nagorno ,Karabakh ,revolution ,refugees ,environment \",\"South ,2020 ,elections ,Republic ,continent ,solidarity \",\"health ,school ,cost ,prosperity ,million ,critical \"],[-8.186497039025673,\"CLUSTER 0\",0.3449276927548772,\"region ,Nagorno ,Karabakh ,revolution ,refugees ,environment \",\"South ,2020 ,elections ,Republic ,continent ,solidarity \",\"health ,school ,cost ,prosperity ,million ,critical \"],[-8.186497039025673,\"CLUSTER 0\",0.3449276927548772,\"region ,Nagorno ,Karabakh ,revolution ,refugees ,environment \",\"South ,2020 ,elections ,Republic ,continent ,solidarity \",\"health ,school ,cost ,prosperity ,million ,critical \"],[-8.186497039025673,\"CLUSTER 0\",0.3449276927548772,\"region ,Nagorno ,Karabakh ,revolution ,refugees ,environment \",\"South ,2020 ,elections ,Republic ,continent ,solidarity \",\"health ,school ,cost ,prosperity ,million ,critical \"],[-8.186497039025673,\"CLUSTER 0\",0.3449276927548772,\"region ,Nagorno ,Karabakh ,revolution ,refugees ,environment \",\"South ,2020 ,elections ,Republic ,continent ,solidarity \",\"health ,school ,cost ,prosperity ,million ,critical \"],[-8.186497039025673,\"CLUSTER 0\",0.3449276927548772,\"region ,Nagorno ,Karabakh ,revolution ,refugees ,environment \",\"South ,2020 ,elections ,Republic ,continent ,solidarity \",\"health ,school ,cost ,prosperity ,million ,critical \"],[-8.186497039025673,\"CLUSTER 0\",0.3449276927548772,\"region ,Nagorno ,Karabakh ,revolution ,refugees ,environment \",\"South ,2020 ,elections ,Republic ,continent ,solidarity \",\"health ,school ,cost ,prosperity ,million ,critical \"],[-8.186497039025673,\"CLUSTER 0\",0.3449276927548772,\"region ,Nagorno ,Karabakh ,revolution ,refugees ,environment \",\"South ,2020 ,elections ,Republic ,continent ,solidarity \",\"health ,school ,cost ,prosperity ,million ,critical \"],[-8.186497039025673,\"CLUSTER 0\",0.3449276927548772,\"region ,Nagorno ,Karabakh ,revolution ,refugees ,environment \",\"South ,2020 ,elections ,Republic ,continent ,solidarity \",\"health ,school ,cost ,prosperity ,million ,critical \"],[-8.186497039025673,\"CLUSTER 0\",0.3449276927548772,\"region ,Nagorno ,Karabakh ,revolution ,refugees ,environment \",\"South ,2020 ,elections ,Republic ,continent ,solidarity \",\"health ,school ,cost ,prosperity ,million ,critical \"],[-8.186497039025673,\"CLUSTER 0\",0.3449276927548772,\"region ,Nagorno ,Karabakh ,revolution ,refugees ,environment \",\"South ,2020 ,elections ,Republic ,continent ,solidarity \",\"health ,school ,cost ,prosperity ,million ,critical \"],[-8.186497039025673,\"CLUSTER 0\",0.3449276927548772,\"region ,Nagorno ,Karabakh ,revolution ,refugees ,environment \",\"South ,2020 ,elections ,Republic ,continent ,solidarity \",\"health ,school ,cost ,prosperity ,million ,critical \"],[-8.186497039025673,\"CLUSTER 0\",0.3449276927548772,\"region ,Nagorno ,Karabakh ,revolution ,refugees ,environment \",\"South ,2020 ,elections ,Republic ,continent ,solidarity \",\"health ,school ,cost ,prosperity ,million ,critical \"],[-8.186497039025673,\"CLUSTER 0\",0.3449276927548772,\"region ,Nagorno ,Karabakh ,revolution ,refugees ,environment \",\"South ,2020 ,elections ,Republic ,continent ,solidarity \",\"health ,school ,cost ,prosperity ,million ,critical \"],[-8.186497039025673,\"CLUSTER 0\",0.3449276927548772,\"region ,Nagorno ,Karabakh ,revolution ,refugees ,environment \",\"South ,2020 ,elections ,Republic ,continent ,solidarity \",\"health ,school ,cost ,prosperity ,million ,critical \"]],\"geo\":\"geo\",\"hovertemplate\":\"Discussion Topics=Nagorno ,health ,South ,school ,2020 ,region <br>ISO Code=%{location}<br>Perplexity Score=%{customdata[0]}<br>index=%{customdata[1]}<br>Coherence Score=%{customdata[2]}<br>Major Topics 1=%{customdata[3]}<br>Major Topics 2=%{customdata[4]}<br>Major Topics 3=%{customdata[5]}<extra></extra>\",\"locations\":[\"AGO\",\"ARM\",\"BDI\",\"BEL\",\"BGD\",\"BWA\",\"GMB\",\"KEN\",\"LSO\",\"MEX\",\"MWI\",\"NAM\",\"NGA\",\"RWA\",\"SLE\",\"SOM\",\"UGA\",\"ZAF\",\"ZMB\",\"ZWE\"],\"name\":\"Nagorno ,health ,South ,school ,2020 ,region \",\"showlegend\":true,\"showscale\":false,\"z\":[1,1,1,1,1,1,1,1,1,1,1,1,1,1,1,1,1,1,1,1],\"type\":\"choropleth\"},{\"colorscale\":[[0.0,\"#1C8356\"],[1.0,\"#1C8356\"]],\"customdata\":[[-8.227648165208908,\"CLUSTER 1\",0.35441767221042203,\"Cabo ,Mauritius ,Verde ,Caribbean ,Saint ,European \",\"Tobago ,Caribbean ,Mozambique ,Timor-Leste ,Guinea-Bissau ,Saint \",\"Caribbean ,choose ,today ,know ,recent ,talk \"],[-8.227648165208908,\"CLUSTER 1\",0.35441767221042203,\"Cabo ,Mauritius ,Verde ,Caribbean ,Saint ,European \",\"Tobago ,Caribbean ,Mozambique ,Timor-Leste ,Guinea-Bissau ,Saint \",\"Caribbean ,choose ,today ,know ,recent ,talk \"],[-8.227648165208908,\"CLUSTER 1\",0.35441767221042203,\"Cabo ,Mauritius ,Verde ,Caribbean ,Saint ,European \",\"Tobago ,Caribbean ,Mozambique ,Timor-Leste ,Guinea-Bissau ,Saint \",\"Caribbean ,choose ,today ,know ,recent ,talk \"],[-8.227648165208908,\"CLUSTER 1\",0.35441767221042203,\"Cabo ,Mauritius ,Verde ,Caribbean ,Saint ,European \",\"Tobago ,Caribbean ,Mozambique ,Timor-Leste ,Guinea-Bissau ,Saint \",\"Caribbean ,choose ,today ,know ,recent ,talk \"],[-8.227648165208908,\"CLUSTER 1\",0.35441767221042203,\"Cabo ,Mauritius ,Verde ,Caribbean ,Saint ,European \",\"Tobago ,Caribbean ,Mozambique ,Timor-Leste ,Guinea-Bissau ,Saint \",\"Caribbean ,choose ,today ,know ,recent ,talk \"],[-8.227648165208908,\"CLUSTER 1\",0.35441767221042203,\"Cabo ,Mauritius ,Verde ,Caribbean ,Saint ,European \",\"Tobago ,Caribbean ,Mozambique ,Timor-Leste ,Guinea-Bissau ,Saint \",\"Caribbean ,choose ,today ,know ,recent ,talk \"],[-8.227648165208908,\"CLUSTER 1\",0.35441767221042203,\"Cabo ,Mauritius ,Verde ,Caribbean ,Saint ,European \",\"Tobago ,Caribbean ,Mozambique ,Timor-Leste ,Guinea-Bissau ,Saint \",\"Caribbean ,choose ,today ,know ,recent ,talk \"],[-8.227648165208908,\"CLUSTER 1\",0.35441767221042203,\"Cabo ,Mauritius ,Verde ,Caribbean ,Saint ,European \",\"Tobago ,Caribbean ,Mozambique ,Timor-Leste ,Guinea-Bissau ,Saint \",\"Caribbean ,choose ,today ,know ,recent ,talk \"],[-8.227648165208908,\"CLUSTER 1\",0.35441767221042203,\"Cabo ,Mauritius ,Verde ,Caribbean ,Saint ,European \",\"Tobago ,Caribbean ,Mozambique ,Timor-Leste ,Guinea-Bissau ,Saint \",\"Caribbean ,choose ,today ,know ,recent ,talk \"],[-8.227648165208908,\"CLUSTER 1\",0.35441767221042203,\"Cabo ,Mauritius ,Verde ,Caribbean ,Saint ,European \",\"Tobago ,Caribbean ,Mozambique ,Timor-Leste ,Guinea-Bissau ,Saint \",\"Caribbean ,choose ,today ,know ,recent ,talk \"],[-8.227648165208908,\"CLUSTER 1\",0.35441767221042203,\"Cabo ,Mauritius ,Verde ,Caribbean ,Saint ,European \",\"Tobago ,Caribbean ,Mozambique ,Timor-Leste ,Guinea-Bissau ,Saint \",\"Caribbean ,choose ,today ,know ,recent ,talk \"],[-8.227648165208908,\"CLUSTER 1\",0.35441767221042203,\"Cabo ,Mauritius ,Verde ,Caribbean ,Saint ,European \",\"Tobago ,Caribbean ,Mozambique ,Timor-Leste ,Guinea-Bissau ,Saint \",\"Caribbean ,choose ,today ,know ,recent ,talk \"],[-8.227648165208908,\"CLUSTER 1\",0.35441767221042203,\"Cabo ,Mauritius ,Verde ,Caribbean ,Saint ,European \",\"Tobago ,Caribbean ,Mozambique ,Timor-Leste ,Guinea-Bissau ,Saint \",\"Caribbean ,choose ,today ,know ,recent ,talk \"],[-8.227648165208908,\"CLUSTER 1\",0.35441767221042203,\"Cabo ,Mauritius ,Verde ,Caribbean ,Saint ,European \",\"Tobago ,Caribbean ,Mozambique ,Timor-Leste ,Guinea-Bissau ,Saint \",\"Caribbean ,choose ,today ,know ,recent ,talk \"],[-8.227648165208908,\"CLUSTER 1\",0.35441767221042203,\"Cabo ,Mauritius ,Verde ,Caribbean ,Saint ,European \",\"Tobago ,Caribbean ,Mozambique ,Timor-Leste ,Guinea-Bissau ,Saint \",\"Caribbean ,choose ,today ,know ,recent ,talk \"],[-8.227648165208908,\"CLUSTER 1\",0.35441767221042203,\"Cabo ,Mauritius ,Verde ,Caribbean ,Saint ,European \",\"Tobago ,Caribbean ,Mozambique ,Timor-Leste ,Guinea-Bissau ,Saint \",\"Caribbean ,choose ,today ,know ,recent ,talk \"],[-8.227648165208908,\"CLUSTER 1\",0.35441767221042203,\"Cabo ,Mauritius ,Verde ,Caribbean ,Saint ,European \",\"Tobago ,Caribbean ,Mozambique ,Timor-Leste ,Guinea-Bissau ,Saint \",\"Caribbean ,choose ,today ,know ,recent ,talk \"]],\"geo\":\"geo\",\"hovertemplate\":\"Discussion Topics=Cabo ,Mauritius ,Caribbean ,choose ,Tobago <br>ISO Code=%{location}<br>Perplexity Score=%{customdata[0]}<br>index=%{customdata[1]}<br>Coherence Score=%{customdata[2]}<br>Major Topics 1=%{customdata[3]}<br>Major Topics 2=%{customdata[4]}<br>Major Topics 3=%{customdata[5]}<extra></extra>\",\"locations\":[\"ALB\",\"ATG\",\"AZE\",\"BRB\",\"CPV\",\"GNB\",\"GUY\",\"JAM\",\"LAO\",\"LCA\",\"MOZ\",\"MUS\",\"ROU\",\"SUR\",\"TLS\",\"TTO\",\"VCT\"],\"name\":\"Cabo ,Mauritius ,Caribbean ,choose ,Tobago \",\"showlegend\":true,\"showscale\":false,\"z\":[1,1,1,1,1,1,1,1,1,1,1,1,1,1,1,1,1],\"type\":\"choropleth\"},{\"colorscale\":[[0.0,\"#16FF32\"],[1.0,\"#16FF32\"]],\"customdata\":[[-8.083384288503002,\"CLUSTER 2\",0.3074828713038014,\"Democratic ,Africa ,Andorra ,African ,2015 ,institutions \",\"Paraguay ,technological ,Latin ,revolution ,Dominican ,clear \",\"Marino ,participation ,initiatives ,corruption ,arm ,problems \"],[-8.083384288503002,\"CLUSTER 2\",0.3074828713038014,\"Democratic ,Africa ,Andorra ,African ,2015 ,institutions \",\"Paraguay ,technological ,Latin ,revolution ,Dominican ,clear \",\"Marino ,participation ,initiatives ,corruption ,arm ,problems \"],[-8.083384288503002,\"CLUSTER 2\",0.3074828713038014,\"Democratic ,Africa ,Andorra ,African ,2015 ,institutions \",\"Paraguay ,technological ,Latin ,revolution ,Dominican ,clear \",\"Marino ,participation ,initiatives ,corruption ,arm ,problems \"],[-8.083384288503002,\"CLUSTER 2\",0.3074828713038014,\"Democratic ,Africa ,Andorra ,African ,2015 ,institutions \",\"Paraguay ,technological ,Latin ,revolution ,Dominican ,clear \",\"Marino ,participation ,initiatives ,corruption ,arm ,problems \"],[-8.083384288503002,\"CLUSTER 2\",0.3074828713038014,\"Democratic ,Africa ,Andorra ,African ,2015 ,institutions \",\"Paraguay ,technological ,Latin ,revolution ,Dominican ,clear \",\"Marino ,participation ,initiatives ,corruption ,arm ,problems \"],[-8.083384288503002,\"CLUSTER 2\",0.3074828713038014,\"Democratic ,Africa ,Andorra ,African ,2015 ,institutions \",\"Paraguay ,technological ,Latin ,revolution ,Dominican ,clear \",\"Marino ,participation ,initiatives ,corruption ,arm ,problems \"],[-8.083384288503002,\"CLUSTER 2\",0.3074828713038014,\"Democratic ,Africa ,Andorra ,African ,2015 ,institutions \",\"Paraguay ,technological ,Latin ,revolution ,Dominican ,clear \",\"Marino ,participation ,initiatives ,corruption ,arm ,problems \"],[-8.083384288503002,\"CLUSTER 2\",0.3074828713038014,\"Democratic ,Africa ,Andorra ,African ,2015 ,institutions \",\"Paraguay ,technological ,Latin ,revolution ,Dominican ,clear \",\"Marino ,participation ,initiatives ,corruption ,arm ,problems \"],[-8.083384288503002,\"CLUSTER 2\",0.3074828713038014,\"Democratic ,Africa ,Andorra ,African ,2015 ,institutions \",\"Paraguay ,technological ,Latin ,revolution ,Dominican ,clear \",\"Marino ,participation ,initiatives ,corruption ,arm ,problems \"],[-8.083384288503002,\"CLUSTER 2\",0.3074828713038014,\"Democratic ,Africa ,Andorra ,African ,2015 ,institutions \",\"Paraguay ,technological ,Latin ,revolution ,Dominican ,clear \",\"Marino ,participation ,initiatives ,corruption ,arm ,problems \"],[-8.083384288503002,\"CLUSTER 2\",0.3074828713038014,\"Democratic ,Africa ,Andorra ,African ,2015 ,institutions \",\"Paraguay ,technological ,Latin ,revolution ,Dominican ,clear \",\"Marino ,participation ,initiatives ,corruption ,arm ,problems \"],[-8.083384288503002,\"CLUSTER 2\",0.3074828713038014,\"Democratic ,Africa ,Andorra ,African ,2015 ,institutions \",\"Paraguay ,technological ,Latin ,revolution ,Dominican ,clear \",\"Marino ,participation ,initiatives ,corruption ,arm ,problems \"],[-8.083384288503002,\"CLUSTER 2\",0.3074828713038014,\"Democratic ,Africa ,Andorra ,African ,2015 ,institutions \",\"Paraguay ,technological ,Latin ,revolution ,Dominican ,clear \",\"Marino ,participation ,initiatives ,corruption ,arm ,problems \"]],\"geo\":\"geo\",\"hovertemplate\":\"Discussion Topics=Marino ,technological ,Paraguay ,Democratic ,Africa ,participation <br>ISO Code=%{location}<br>Perplexity Score=%{customdata[0]}<br>index=%{customdata[1]}<br>Coherence Score=%{customdata[2]}<br>Major Topics 1=%{customdata[3]}<br>Major Topics 2=%{customdata[4]}<br>Major Topics 3=%{customdata[5]}<extra></extra>\",\"locations\":[\"AND\",\"BOL\",\"COD\",\"CRI\",\"DOM\",\"ESP\",\"MDG\",\"NIC\",\"PER\",\"PRY\",\"SMR\",\"TZA\",\"URY\"],\"name\":\"Marino ,technological ,Paraguay ,Democratic ,Africa ,participation \",\"showlegend\":true,\"showscale\":false,\"z\":[1,1,1,1,1,1,1,1,1,1,1,1,1],\"type\":\"choropleth\"},{\"colorscale\":[[0.0,\"#F7E1A0\"],[1.0,\"#F7E1A0\"]],\"customdata\":[[-7.441709285628325,\"CLUSTER 3\",0.37662222753864594,\"Sahel ,Africa ,strategy ,energy ,public ,access \",\"Sudanese ,revolution ,women ,Emirates ,crises ,solutions \",\"brother ,crisis ,question ,path ,democracy ,crises \"],[-7.441709285628325,\"CLUSTER 3\",0.37662222753864594,\"Sahel ,Africa ,strategy ,energy ,public ,access \",\"Sudanese ,revolution ,women ,Emirates ,crises ,solutions \",\"brother ,crisis ,question ,path ,democracy ,crises \"],[-7.441709285628325,\"CLUSTER 3\",0.37662222753864594,\"Sahel ,Africa ,strategy ,energy ,public ,access \",\"Sudanese ,revolution ,women ,Emirates ,crises ,solutions \",\"brother ,crisis ,question ,path ,democracy ,crises \"],[-7.441709285628325,\"CLUSTER 3\",0.37662222753864594,\"Sahel ,Africa ,strategy ,energy ,public ,access \",\"Sudanese ,revolution ,women ,Emirates ,crises ,solutions \",\"brother ,crisis ,question ,path ,democracy ,crises \"],[-7.441709285628325,\"CLUSTER 3\",0.37662222753864594,\"Sahel ,Africa ,strategy ,energy ,public ,access \",\"Sudanese ,revolution ,women ,Emirates ,crises ,solutions \",\"brother ,crisis ,question ,path ,democracy ,crises \"],[-7.441709285628325,\"CLUSTER 3\",0.37662222753864594,\"Sahel ,Africa ,strategy ,energy ,public ,access \",\"Sudanese ,revolution ,women ,Emirates ,crises ,solutions \",\"brother ,crisis ,question ,path ,democracy ,crises \"],[-7.441709285628325,\"CLUSTER 3\",0.37662222753864594,\"Sahel ,Africa ,strategy ,energy ,public ,access \",\"Sudanese ,revolution ,women ,Emirates ,crises ,solutions \",\"brother ,crisis ,question ,path ,democracy ,crises \"]],\"geo\":\"geo\",\"hovertemplate\":\"Discussion Topics=brother ,crisis ,Africa ,Sahel ,Sudanese ,revolution <br>ISO Code=%{location}<br>Perplexity Score=%{customdata[0]}<br>index=%{customdata[1]}<br>Coherence Score=%{customdata[2]}<br>Major Topics 1=%{customdata[3]}<br>Major Topics 2=%{customdata[4]}<br>Major Topics 3=%{customdata[5]}<extra></extra>\",\"locations\":[\"ARE\",\"DZA\",\"MAR\",\"MRT\",\"OMN\",\"SDN\",\"TUN\"],\"name\":\"brother ,crisis ,Africa ,Sahel ,Sudanese ,revolution \",\"showlegend\":true,\"showscale\":false,\"z\":[1,1,1,1,1,1,1],\"type\":\"choropleth\"},{\"colorscale\":[[0.0,\"#1CBE4F\"],[1.0,\"#1CBE4F\"]],\"customdata\":[[-8.060906170229384,\"CLUSTER 4\",0.2617961364516556,\"European ,protection ,societies ,peaceful ,Conference ,natural \",\"transition ,like ,enable ,Francis ,Pope ,group \",\"Lanka ,small ,policy ,terrorism ,technologies ,technology \"],[-8.060906170229384,\"CLUSTER 4\",0.2617961364516556,\"European ,protection ,societies ,peaceful ,Conference ,natural \",\"transition ,like ,enable ,Francis ,Pope ,group \",\"Lanka ,small ,policy ,terrorism ,technologies ,technology \"],[-8.060906170229384,\"CLUSTER 4\",0.2617961364516556,\"European ,protection ,societies ,peaceful ,Conference ,natural \",\"transition ,like ,enable ,Francis ,Pope ,group \",\"Lanka ,small ,policy ,terrorism ,technologies ,technology \"],[-8.060906170229384,\"CLUSTER 4\",0.2617961364516556,\"European ,protection ,societies ,peaceful ,Conference ,natural \",\"transition ,like ,enable ,Francis ,Pope ,group \",\"Lanka ,small ,policy ,terrorism ,technologies ,technology \"],[-8.060906170229384,\"CLUSTER 4\",0.2617961364516556,\"European ,protection ,societies ,peaceful ,Conference ,natural \",\"transition ,like ,enable ,Francis ,Pope ,group \",\"Lanka ,small ,policy ,terrorism ,technologies ,technology \"],[-8.060906170229384,\"CLUSTER 4\",0.2617961364516556,\"European ,protection ,societies ,peaceful ,Conference ,natural \",\"transition ,like ,enable ,Francis ,Pope ,group \",\"Lanka ,small ,policy ,terrorism ,technologies ,technology \"],[-8.060906170229384,\"CLUSTER 4\",0.2617961364516556,\"European ,protection ,societies ,peaceful ,Conference ,natural \",\"transition ,like ,enable ,Francis ,Pope ,group \",\"Lanka ,small ,policy ,terrorism ,technologies ,technology \"],[-8.060906170229384,\"CLUSTER 4\",0.2617961364516556,\"European ,protection ,societies ,peaceful ,Conference ,natural \",\"transition ,like ,enable ,Francis ,Pope ,group \",\"Lanka ,small ,policy ,terrorism ,technologies ,technology \"],[-8.060906170229384,\"CLUSTER 4\",0.2617961364516556,\"European ,protection ,societies ,peaceful ,Conference ,natural \",\"transition ,like ,enable ,Francis ,Pope ,group \",\"Lanka ,small ,policy ,terrorism ,technologies ,technology \"],[-8.060906170229384,\"CLUSTER 4\",0.2617961364516556,\"European ,protection ,societies ,peaceful ,Conference ,natural \",\"transition ,like ,enable ,Francis ,Pope ,group \",\"Lanka ,small ,policy ,terrorism ,technologies ,technology \"],[-8.060906170229384,\"CLUSTER 4\",0.2617961364516556,\"European ,protection ,societies ,peaceful ,Conference ,natural \",\"transition ,like ,enable ,Francis ,Pope ,group \",\"Lanka ,small ,policy ,terrorism ,technologies ,technology \"],[-8.060906170229384,\"CLUSTER 4\",0.2617961364516556,\"European ,protection ,societies ,peaceful ,Conference ,natural \",\"transition ,like ,enable ,Francis ,Pope ,group \",\"Lanka ,small ,policy ,terrorism ,technologies ,technology \"],[-8.060906170229384,\"CLUSTER 4\",0.2617961364516556,\"European ,protection ,societies ,peaceful ,Conference ,natural \",\"transition ,like ,enable ,Francis ,Pope ,group \",\"Lanka ,small ,policy ,terrorism ,technologies ,technology \"],[-8.060906170229384,\"CLUSTER 4\",0.2617961364516556,\"European ,protection ,societies ,peaceful ,Conference ,natural \",\"transition ,like ,enable ,Francis ,Pope ,group \",\"Lanka ,small ,policy ,terrorism ,technologies ,technology \"]],\"geo\":\"geo\",\"hovertemplate\":\"Discussion Topics=Lanka ,protection ,like ,small ,transition ,European <br>ISO Code=%{location}<br>Perplexity Score=%{customdata[0]}<br>index=%{customdata[1]}<br>Coherence Score=%{customdata[2]}<br>Major Topics 1=%{customdata[3]}<br>Major Topics 2=%{customdata[4]}<br>Major Topics 3=%{customdata[5]}<extra></extra>\",\"locations\":[\"ARG\",\"CHE\",\"ECU\",\"IRL\",\"ISL\",\"ITA\",\"LKA\",\"MCO\",\"MLI\",\"MLT\",\"MNE\",\"POL\",\"SVN\",\"VAT\"],\"name\":\"Lanka ,protection ,like ,small ,transition ,European \",\"showlegend\":true,\"showscale\":false,\"z\":[1,1,1,1,1,1,1,1,1,1,1,1,1,1],\"type\":\"choropleth\"},{\"colorscale\":[[0.0,\"#C4451C\"],[1.0,\"#C4451C\"]],\"customdata\":[[-7.942475710010616,\"CLUSTER 5\",0.35483550475642156,\"multilateralism ,listen ,gender ,hear ,Member ,pursue \",\"democracy ,young ,Asia ,propose ,North-East ,reason \",\"justice ,military ,freedom ,crimes ,reach ,best \"],[-7.942475710010616,\"CLUSTER 5\",0.35483550475642156,\"multilateralism ,listen ,gender ,hear ,Member ,pursue \",\"democracy ,young ,Asia ,propose ,North-East ,reason \",\"justice ,military ,freedom ,crimes ,reach ,best \"],[-7.942475710010616,\"CLUSTER 5\",0.35483550475642156,\"multilateralism ,listen ,gender ,hear ,Member ,pursue \",\"democracy ,young ,Asia ,propose ,North-East ,reason \",\"justice ,military ,freedom ,crimes ,reach ,best \"],[-7.942475710010616,\"CLUSTER 5\",0.35483550475642156,\"multilateralism ,listen ,gender ,hear ,Member ,pursue \",\"democracy ,young ,Asia ,propose ,North-East ,reason \",\"justice ,military ,freedom ,crimes ,reach ,best \"],[-7.942475710010616,\"CLUSTER 5\",0.35483550475642156,\"multilateralism ,listen ,gender ,hear ,Member ,pursue \",\"democracy ,young ,Asia ,propose ,North-East ,reason \",\"justice ,military ,freedom ,crimes ,reach ,best \"],[-7.942475710010616,\"CLUSTER 5\",0.35483550475642156,\"multilateralism ,listen ,gender ,hear ,Member ,pursue \",\"democracy ,young ,Asia ,propose ,North-East ,reason \",\"justice ,military ,freedom ,crimes ,reach ,best \"],[-7.942475710010616,\"CLUSTER 5\",0.35483550475642156,\"multilateralism ,listen ,gender ,hear ,Member ,pursue \",\"democracy ,young ,Asia ,propose ,North-East ,reason \",\"justice ,military ,freedom ,crimes ,reach ,best \"],[-7.942475710010616,\"CLUSTER 5\",0.35483550475642156,\"multilateralism ,listen ,gender ,hear ,Member ,pursue \",\"democracy ,young ,Asia ,propose ,North-East ,reason \",\"justice ,military ,freedom ,crimes ,reach ,best \"],[-7.942475710010616,\"CLUSTER 5\",0.35483550475642156,\"multilateralism ,listen ,gender ,hear ,Member ,pursue \",\"democracy ,young ,Asia ,propose ,North-East ,reason \",\"justice ,military ,freedom ,crimes ,reach ,best \"],[-7.942475710010616,\"CLUSTER 5\",0.35483550475642156,\"multilateralism ,listen ,gender ,hear ,Member ,pursue \",\"democracy ,young ,Asia ,propose ,North-East ,reason \",\"justice ,military ,freedom ,crimes ,reach ,best \"]],\"geo\":\"geo\",\"hovertemplate\":\"Discussion Topics=justice ,young ,democracy ,multilateralism ,listen ,military <br>ISO Code=%{location}<br>Perplexity Score=%{customdata[0]}<br>index=%{customdata[1]}<br>Coherence Score=%{customdata[2]}<br>Major Topics 1=%{customdata[3]}<br>Major Topics 2=%{customdata[4]}<br>Major Topics 3=%{customdata[5]}<extra></extra>\",\"locations\":[\"AUT\",\"BGR\",\"CAN\",\"CHN\",\"DNK\",\"LTU\",\"MNG\",\"NLD\",\"NOR\",\"SWE\"],\"name\":\"justice ,young ,democracy ,multilateralism ,listen ,military \",\"showlegend\":true,\"showscale\":false,\"z\":[1,1,1,1,1,1,1,1,1,1],\"type\":\"choropleth\"},{\"colorscale\":[[0.0,\"#DEA0FD\"],[1.0,\"#DEA0FD\"]],\"customdata\":[[-8.295177482878993,\"Others\",0.2175132083183324,\"Sahel ,fight ,continent ,welcome ,finance ,Faso \",\"terrorism ,rule ,current ,combat ,common ,dangerous \",\"South ,nations ,European ,Korean ,zone ,party \"],[-8.295177482878993,\"Others\",0.2175132083183324,\"Sahel ,fight ,continent ,welcome ,finance ,Faso \",\"terrorism ,rule ,current ,combat ,common ,dangerous \",\"South ,nations ,European ,Korean ,zone ,party \"],[-8.295177482878993,\"Others\",0.2175132083183324,\"Sahel ,fight ,continent ,welcome ,finance ,Faso \",\"terrorism ,rule ,current ,combat ,common ,dangerous \",\"South ,nations ,European ,Korean ,zone ,party \"],[-8.295177482878993,\"Others\",0.2175132083183324,\"Sahel ,fight ,continent ,welcome ,finance ,Faso \",\"terrorism ,rule ,current ,combat ,common ,dangerous \",\"South ,nations ,European ,Korean ,zone ,party \"],[-8.295177482878993,\"Others\",0.2175132083183324,\"Sahel ,fight ,continent ,welcome ,finance ,Faso \",\"terrorism ,rule ,current ,combat ,common ,dangerous \",\"South ,nations ,European ,Korean ,zone ,party \"],[-8.295177482878993,\"Others\",0.2175132083183324,\"Sahel ,fight ,continent ,welcome ,finance ,Faso \",\"terrorism ,rule ,current ,combat ,common ,dangerous \",\"South ,nations ,European ,Korean ,zone ,party \"],[-8.295177482878993,\"Others\",0.2175132083183324,\"Sahel ,fight ,continent ,welcome ,finance ,Faso \",\"terrorism ,rule ,current ,combat ,common ,dangerous \",\"South ,nations ,European ,Korean ,zone ,party \"],[-8.295177482878993,\"Others\",0.2175132083183324,\"Sahel ,fight ,continent ,welcome ,finance ,Faso \",\"terrorism ,rule ,current ,combat ,common ,dangerous \",\"South ,nations ,European ,Korean ,zone ,party \"],[-8.295177482878993,\"Others\",0.2175132083183324,\"Sahel ,fight ,continent ,welcome ,finance ,Faso \",\"terrorism ,rule ,current ,combat ,common ,dangerous \",\"South ,nations ,European ,Korean ,zone ,party \"],[-8.295177482878993,\"Others\",0.2175132083183324,\"Sahel ,fight ,continent ,welcome ,finance ,Faso \",\"terrorism ,rule ,current ,combat ,common ,dangerous \",\"South ,nations ,European ,Korean ,zone ,party \"],[-8.295177482878993,\"Others\",0.2175132083183324,\"Sahel ,fight ,continent ,welcome ,finance ,Faso \",\"terrorism ,rule ,current ,combat ,common ,dangerous \",\"South ,nations ,European ,Korean ,zone ,party \"],[-8.295177482878993,\"Others\",0.2175132083183324,\"Sahel ,fight ,continent ,welcome ,finance ,Faso \",\"terrorism ,rule ,current ,combat ,common ,dangerous \",\"South ,nations ,European ,Korean ,zone ,party \"],[-8.295177482878993,\"Others\",0.2175132083183324,\"Sahel ,fight ,continent ,welcome ,finance ,Faso \",\"terrorism ,rule ,current ,combat ,common ,dangerous \",\"South ,nations ,European ,Korean ,zone ,party \"],[-8.295177482878993,\"Others\",0.2175132083183324,\"Sahel ,fight ,continent ,welcome ,finance ,Faso \",\"terrorism ,rule ,current ,combat ,common ,dangerous \",\"South ,nations ,European ,Korean ,zone ,party \"],[-8.295177482878993,\"Others\",0.2175132083183324,\"Sahel ,fight ,continent ,welcome ,finance ,Faso \",\"terrorism ,rule ,current ,combat ,common ,dangerous \",\"South ,nations ,European ,Korean ,zone ,party \"],[-8.295177482878993,\"Others\",0.2175132083183324,\"Sahel ,fight ,continent ,welcome ,finance ,Faso \",\"terrorism ,rule ,current ,combat ,common ,dangerous \",\"South ,nations ,European ,Korean ,zone ,party \"],[-8.295177482878993,\"Others\",0.2175132083183324,\"Sahel ,fight ,continent ,welcome ,finance ,Faso \",\"terrorism ,rule ,current ,combat ,common ,dangerous \",\"South ,nations ,European ,Korean ,zone ,party \"],[-8.295177482878993,\"Others\",0.2175132083183324,\"Sahel ,fight ,continent ,welcome ,finance ,Faso \",\"terrorism ,rule ,current ,combat ,common ,dangerous \",\"South ,nations ,European ,Korean ,zone ,party \"],[-8.295177482878993,\"Others\",0.2175132083183324,\"Sahel ,fight ,continent ,welcome ,finance ,Faso \",\"terrorism ,rule ,current ,combat ,common ,dangerous \",\"South ,nations ,European ,Korean ,zone ,party \"],[-8.295177482878993,\"Others\",0.2175132083183324,\"Sahel ,fight ,continent ,welcome ,finance ,Faso \",\"terrorism ,rule ,current ,combat ,common ,dangerous \",\"South ,nations ,European ,Korean ,zone ,party \"],[-8.295177482878993,\"Others\",0.2175132083183324,\"Sahel ,fight ,continent ,welcome ,finance ,Faso \",\"terrorism ,rule ,current ,combat ,common ,dangerous \",\"South ,nations ,European ,Korean ,zone ,party \"],[-8.295177482878993,\"Others\",0.2175132083183324,\"Sahel ,fight ,continent ,welcome ,finance ,Faso \",\"terrorism ,rule ,current ,combat ,common ,dangerous \",\"South ,nations ,European ,Korean ,zone ,party \"],[-8.295177482878993,\"Others\",0.2175132083183324,\"Sahel ,fight ,continent ,welcome ,finance ,Faso \",\"terrorism ,rule ,current ,combat ,common ,dangerous \",\"South ,nations ,European ,Korean ,zone ,party \"],[-8.295177482878993,\"Others\",0.2175132083183324,\"Sahel ,fight ,continent ,welcome ,finance ,Faso \",\"terrorism ,rule ,current ,combat ,common ,dangerous \",\"South ,nations ,European ,Korean ,zone ,party \"],[-8.295177482878993,\"Others\",0.2175132083183324,\"Sahel ,fight ,continent ,welcome ,finance ,Faso \",\"terrorism ,rule ,current ,combat ,common ,dangerous \",\"South ,nations ,European ,Korean ,zone ,party \"],[-8.295177482878993,\"Others\",0.2175132083183324,\"Sahel ,fight ,continent ,welcome ,finance ,Faso \",\"terrorism ,rule ,current ,combat ,common ,dangerous \",\"South ,nations ,European ,Korean ,zone ,party \"],[-8.295177482878993,\"Others\",0.2175132083183324,\"Sahel ,fight ,continent ,welcome ,finance ,Faso \",\"terrorism ,rule ,current ,combat ,common ,dangerous \",\"South ,nations ,European ,Korean ,zone ,party \"],[-8.295177482878993,\"Others\",0.2175132083183324,\"Sahel ,fight ,continent ,welcome ,finance ,Faso \",\"terrorism ,rule ,current ,combat ,common ,dangerous \",\"South ,nations ,European ,Korean ,zone ,party \"],[-8.295177482878993,\"Others\",0.2175132083183324,\"Sahel ,fight ,continent ,welcome ,finance ,Faso \",\"terrorism ,rule ,current ,combat ,common ,dangerous \",\"South ,nations ,European ,Korean ,zone ,party \"],[-8.295177482878993,\"Others\",0.2175132083183324,\"Sahel ,fight ,continent ,welcome ,finance ,Faso \",\"terrorism ,rule ,current ,combat ,common ,dangerous \",\"South ,nations ,European ,Korean ,zone ,party \"],[-8.295177482878993,\"Others\",0.2175132083183324,\"Sahel ,fight ,continent ,welcome ,finance ,Faso \",\"terrorism ,rule ,current ,combat ,common ,dangerous \",\"South ,nations ,European ,Korean ,zone ,party \"],[-8.295177482878993,\"Others\",0.2175132083183324,\"Sahel ,fight ,continent ,welcome ,finance ,Faso \",\"terrorism ,rule ,current ,combat ,common ,dangerous \",\"South ,nations ,European ,Korean ,zone ,party \"],[-8.295177482878993,\"Others\",0.2175132083183324,\"Sahel ,fight ,continent ,welcome ,finance ,Faso \",\"terrorism ,rule ,current ,combat ,common ,dangerous \",\"South ,nations ,European ,Korean ,zone ,party \"],[-8.295177482878993,\"Others\",0.2175132083183324,\"Sahel ,fight ,continent ,welcome ,finance ,Faso \",\"terrorism ,rule ,current ,combat ,common ,dangerous \",\"South ,nations ,European ,Korean ,zone ,party \"],[-8.295177482878993,\"Others\",0.2175132083183324,\"Sahel ,fight ,continent ,welcome ,finance ,Faso \",\"terrorism ,rule ,current ,combat ,common ,dangerous \",\"South ,nations ,European ,Korean ,zone ,party \"],[-8.295177482878993,\"Others\",0.2175132083183324,\"Sahel ,fight ,continent ,welcome ,finance ,Faso \",\"terrorism ,rule ,current ,combat ,common ,dangerous \",\"South ,nations ,European ,Korean ,zone ,party \"]],\"geo\":\"geo\",\"hovertemplate\":\"Discussion Topics=terrorism ,South ,fight ,Sahel ,rule ,nations <br>ISO Code=%{location}<br>Perplexity Score=%{customdata[0]}<br>index=%{customdata[1]}<br>Coherence Score=%{customdata[2]}<br>Major Topics 1=%{customdata[3]}<br>Major Topics 2=%{customdata[4]}<br>Major Topics 3=%{customdata[5]}<extra></extra>\",\"locations\":[\"BEN\",\"BFA\",\"BLR\",\"BTN\",\"CIV\",\"COG\",\"CZE\",\"DJI\",\"DMA\",\"ETH\",\"FJI\",\"GHA\",\"GIN\",\"GNQ\",\"GRD\",\"HTI\",\"HUN\",\"IDN\",\"IRQ\",\"JOR\",\"KNA\",\"KOR\",\"LBR\",\"LIE\",\"LUX\",\"LVA\",\"NPL\",\"PRT\",\"RUS\",\"SEN\",\"SRB\",\"SSD\",\"STP\",\"SWZ\",\"TGO\",\"VNM\"],\"name\":\"terrorism ,South ,fight ,Sahel ,rule ,nations \",\"showlegend\":true,\"showscale\":false,\"z\":[1,1,1,1,1,1,1,1,1,1,1,1,1,1,1,1,1,1,1,1,1,1,1,1,1,1,1,1,1,1,1,1,1,1,1,1],\"type\":\"choropleth\"},{\"colorscale\":[[0.0,\"#FE00FA\"],[1.0,\"#FE00FA\"]],\"customdata\":[[-8.061176103985108,\"CLUSTER 10\",0.3171694748066901,\"Cyprus ,Turkish ,European ,climate ,justice ,refugees \",\"Israeli ,militias ,impose ,coalition ,African ,Saudi \",\"regime ,Iranian ,kill ,climate ,Libyan ,war \"],[-8.061176103985108,\"CLUSTER 10\",0.3171694748066901,\"Cyprus ,Turkish ,European ,climate ,justice ,refugees \",\"Israeli ,militias ,impose ,coalition ,African ,Saudi \",\"regime ,Iranian ,kill ,climate ,Libyan ,war \"],[-8.061176103985108,\"CLUSTER 10\",0.3171694748066901,\"Cyprus ,Turkish ,European ,climate ,justice ,refugees \",\"Israeli ,militias ,impose ,coalition ,African ,Saudi \",\"regime ,Iranian ,kill ,climate ,Libyan ,war \"],[-8.061176103985108,\"CLUSTER 10\",0.3171694748066901,\"Cyprus ,Turkish ,European ,climate ,justice ,refugees \",\"Israeli ,militias ,impose ,coalition ,African ,Saudi \",\"regime ,Iranian ,kill ,climate ,Libyan ,war \"],[-8.061176103985108,\"CLUSTER 10\",0.3171694748066901,\"Cyprus ,Turkish ,European ,climate ,justice ,refugees \",\"Israeli ,militias ,impose ,coalition ,African ,Saudi \",\"regime ,Iranian ,kill ,climate ,Libyan ,war \"],[-8.061176103985108,\"CLUSTER 10\",0.3171694748066901,\"Cyprus ,Turkish ,European ,climate ,justice ,refugees \",\"Israeli ,militias ,impose ,coalition ,African ,Saudi \",\"regime ,Iranian ,kill ,climate ,Libyan ,war \"],[-8.061176103985108,\"CLUSTER 10\",0.3171694748066901,\"Cyprus ,Turkish ,European ,climate ,justice ,refugees \",\"Israeli ,militias ,impose ,coalition ,African ,Saudi \",\"regime ,Iranian ,kill ,climate ,Libyan ,war \"],[-8.061176103985108,\"CLUSTER 10\",0.3171694748066901,\"Cyprus ,Turkish ,European ,climate ,justice ,refugees \",\"Israeli ,militias ,impose ,coalition ,African ,Saudi \",\"regime ,Iranian ,kill ,climate ,Libyan ,war \"],[-8.061176103985108,\"CLUSTER 10\",0.3171694748066901,\"Cyprus ,Turkish ,European ,climate ,justice ,refugees \",\"Israeli ,militias ,impose ,coalition ,African ,Saudi \",\"regime ,Iranian ,kill ,climate ,Libyan ,war \"],[-8.061176103985108,\"CLUSTER 10\",0.3171694748066901,\"Cyprus ,Turkish ,European ,climate ,justice ,refugees \",\"Israeli ,militias ,impose ,coalition ,African ,Saudi \",\"regime ,Iranian ,kill ,climate ,Libyan ,war \"],[-8.061176103985108,\"CLUSTER 10\",0.3171694748066901,\"Cyprus ,Turkish ,European ,climate ,justice ,refugees \",\"Israeli ,militias ,impose ,coalition ,African ,Saudi \",\"regime ,Iranian ,kill ,climate ,Libyan ,war \"],[-8.061176103985108,\"CLUSTER 10\",0.3171694748066901,\"Cyprus ,Turkish ,European ,climate ,justice ,refugees \",\"Israeli ,militias ,impose ,coalition ,African ,Saudi \",\"regime ,Iranian ,kill ,climate ,Libyan ,war \"],[-8.061176103985108,\"CLUSTER 10\",0.3171694748066901,\"Cyprus ,Turkish ,European ,climate ,justice ,refugees \",\"Israeli ,militias ,impose ,coalition ,African ,Saudi \",\"regime ,Iranian ,kill ,climate ,Libyan ,war \"],[-8.061176103985108,\"CLUSTER 10\",0.3171694748066901,\"Cyprus ,Turkish ,European ,climate ,justice ,refugees \",\"Israeli ,militias ,impose ,coalition ,African ,Saudi \",\"regime ,Iranian ,kill ,climate ,Libyan ,war \"],[-8.061176103985108,\"CLUSTER 10\",0.3171694748066901,\"Cyprus ,Turkish ,European ,climate ,justice ,refugees \",\"Israeli ,militias ,impose ,coalition ,African ,Saudi \",\"regime ,Iranian ,kill ,climate ,Libyan ,war \"],[-8.061176103985108,\"CLUSTER 10\",0.3171694748066901,\"Cyprus ,Turkish ,European ,climate ,justice ,refugees \",\"Israeli ,militias ,impose ,coalition ,African ,Saudi \",\"regime ,Iranian ,kill ,climate ,Libyan ,war \"],[-8.061176103985108,\"CLUSTER 10\",0.3171694748066901,\"Cyprus ,Turkish ,European ,climate ,justice ,refugees \",\"Israeli ,militias ,impose ,coalition ,African ,Saudi \",\"regime ,Iranian ,kill ,climate ,Libyan ,war \"]],\"geo\":\"geo\",\"hovertemplate\":\"Discussion Topics=Iranian ,Turkish ,militias ,regime ,Cyprus ,Israeli <br>ISO Code=%{location}<br>Perplexity Score=%{customdata[0]}<br>index=%{customdata[1]}<br>Coherence Score=%{customdata[2]}<br>Major Topics 1=%{customdata[3]}<br>Major Topics 2=%{customdata[4]}<br>Major Topics 3=%{customdata[5]}<extra></extra>\",\"locations\":[\"BHR\",\"CYP\",\"EGY\",\"GRC\",\"IRN\",\"ISR\",\"KWT\",\"LBN\",\"LBY\",\"MMR\",\"MYS\",\"PSE\",\"QAT\",\"SAU\",\"SYR\",\"TUR\",\"YEM\"],\"name\":\"Iranian ,Turkish ,militias ,regime ,Cyprus ,Israeli \",\"showlegend\":true,\"showscale\":false,\"z\":[1,1,1,1,1,1,1,1,1,1,1,1,1,1,1,1,1],\"type\":\"choropleth\"},{\"colorscale\":[[0.0,\"#325A9B\"],[1.0,\"#325A9B\"]],\"customdata\":[[-7.572812648816696,\"CLUSTER 6\",0.3686401739727517,\"European ,North ,Macedonia ,combat ,activities ,migration \",\"Kyrgyz ,neutrality ,Transnistrian ,solve ,problem ,force \",\"drug ,Dushanbe ,traffic ,conference ,nuclear ,grow \"],[-7.572812648816696,\"CLUSTER 6\",0.3686401739727517,\"European ,North ,Macedonia ,combat ,activities ,migration \",\"Kyrgyz ,neutrality ,Transnistrian ,solve ,problem ,force \",\"drug ,Dushanbe ,traffic ,conference ,nuclear ,grow \"],[-7.572812648816696,\"CLUSTER 6\",0.3686401739727517,\"European ,North ,Macedonia ,combat ,activities ,migration \",\"Kyrgyz ,neutrality ,Transnistrian ,solve ,problem ,force \",\"drug ,Dushanbe ,traffic ,conference ,nuclear ,grow \"],[-7.572812648816696,\"CLUSTER 6\",0.3686401739727517,\"European ,North ,Macedonia ,combat ,activities ,migration \",\"Kyrgyz ,neutrality ,Transnistrian ,solve ,problem ,force \",\"drug ,Dushanbe ,traffic ,conference ,nuclear ,grow \"],[-7.572812648816696,\"CLUSTER 6\",0.3686401739727517,\"European ,North ,Macedonia ,combat ,activities ,migration \",\"Kyrgyz ,neutrality ,Transnistrian ,solve ,problem ,force \",\"drug ,Dushanbe ,traffic ,conference ,nuclear ,grow \"],[-7.572812648816696,\"CLUSTER 6\",0.3686401739727517,\"European ,North ,Macedonia ,combat ,activities ,migration \",\"Kyrgyz ,neutrality ,Transnistrian ,solve ,problem ,force \",\"drug ,Dushanbe ,traffic ,conference ,nuclear ,grow \"],[-7.572812648816696,\"CLUSTER 6\",0.3686401739727517,\"European ,North ,Macedonia ,combat ,activities ,migration \",\"Kyrgyz ,neutrality ,Transnistrian ,solve ,problem ,force \",\"drug ,Dushanbe ,traffic ,conference ,nuclear ,grow \"]],\"geo\":\"geo\",\"hovertemplate\":\"Discussion Topics=North ,Dushanbe ,neutrality ,drug ,European ,Kyrgyz <br>ISO Code=%{location}<br>Perplexity Score=%{customdata[0]}<br>index=%{customdata[1]}<br>Coherence Score=%{customdata[2]}<br>Major Topics 1=%{customdata[3]}<br>Major Topics 2=%{customdata[4]}<br>Major Topics 3=%{customdata[5]}<extra></extra>\",\"locations\":[\"BIH\",\"KAZ\",\"KGZ\",\"MDA\",\"MKD\",\"TJK\",\"TKM\"],\"name\":\"North ,Dushanbe ,neutrality ,drug ,European ,Kyrgyz \",\"showlegend\":true,\"showscale\":false,\"z\":[1,1,1,1,1,1,1],\"type\":\"choropleth\"},{\"colorscale\":[[0.0,\"#FEAF16\"],[1.0,\"#FEAF16\"]],\"customdata\":[[-8.289141291057076,\"CLUSTER 7\",0.35474630702192034,\"indigenous ,Republic ,Cuban ,Brazilian ,sovereignty ,military \",\"measure ,entire ,Venezuelan ,women ,message ,meet \",\"Muslims ,Kashmir ,Islam ,Muslim ,Zealand ,happen \"],[-8.289141291057076,\"CLUSTER 7\",0.35474630702192034,\"indigenous ,Republic ,Cuban ,Brazilian ,sovereignty ,military \",\"measure ,entire ,Venezuelan ,women ,message ,meet \",\"Muslims ,Kashmir ,Islam ,Muslim ,Zealand ,happen \"],[-8.289141291057076,\"CLUSTER 7\",0.35474630702192034,\"indigenous ,Republic ,Cuban ,Brazilian ,sovereignty ,military \",\"measure ,entire ,Venezuelan ,women ,message ,meet \",\"Muslims ,Kashmir ,Islam ,Muslim ,Zealand ,happen \"],[-8.289141291057076,\"CLUSTER 7\",0.35474630702192034,\"indigenous ,Republic ,Cuban ,Brazilian ,sovereignty ,military \",\"measure ,entire ,Venezuelan ,women ,message ,meet \",\"Muslims ,Kashmir ,Islam ,Muslim ,Zealand ,happen \"],[-8.289141291057076,\"CLUSTER 7\",0.35474630702192034,\"indigenous ,Republic ,Cuban ,Brazilian ,sovereignty ,military \",\"measure ,entire ,Venezuelan ,women ,message ,meet \",\"Muslims ,Kashmir ,Islam ,Muslim ,Zealand ,happen \"],[-8.289141291057076,\"CLUSTER 7\",0.35474630702192034,\"indigenous ,Republic ,Cuban ,Brazilian ,sovereignty ,military \",\"measure ,entire ,Venezuelan ,women ,message ,meet \",\"Muslims ,Kashmir ,Islam ,Muslim ,Zealand ,happen \"],[-8.289141291057076,\"CLUSTER 7\",0.35474630702192034,\"indigenous ,Republic ,Cuban ,Brazilian ,sovereignty ,military \",\"measure ,entire ,Venezuelan ,women ,message ,meet \",\"Muslims ,Kashmir ,Islam ,Muslim ,Zealand ,happen \"],[-8.289141291057076,\"CLUSTER 7\",0.35474630702192034,\"indigenous ,Republic ,Cuban ,Brazilian ,sovereignty ,military \",\"measure ,entire ,Venezuelan ,women ,message ,meet \",\"Muslims ,Kashmir ,Islam ,Muslim ,Zealand ,happen \"],[-8.289141291057076,\"CLUSTER 7\",0.35474630702192034,\"indigenous ,Republic ,Cuban ,Brazilian ,sovereignty ,military \",\"measure ,entire ,Venezuelan ,women ,message ,meet \",\"Muslims ,Kashmir ,Islam ,Muslim ,Zealand ,happen \"],[-8.289141291057076,\"CLUSTER 7\",0.35474630702192034,\"indigenous ,Republic ,Cuban ,Brazilian ,sovereignty ,military \",\"measure ,entire ,Venezuelan ,women ,message ,meet \",\"Muslims ,Kashmir ,Islam ,Muslim ,Zealand ,happen \"],[-8.289141291057076,\"CLUSTER 7\",0.35474630702192034,\"indigenous ,Republic ,Cuban ,Brazilian ,sovereignty ,military \",\"measure ,entire ,Venezuelan ,women ,message ,meet \",\"Muslims ,Kashmir ,Islam ,Muslim ,Zealand ,happen \"],[-8.289141291057076,\"CLUSTER 7\",0.35474630702192034,\"indigenous ,Republic ,Cuban ,Brazilian ,sovereignty ,military \",\"measure ,entire ,Venezuelan ,women ,message ,meet \",\"Muslims ,Kashmir ,Islam ,Muslim ,Zealand ,happen \"],[-8.289141291057076,\"CLUSTER 7\",0.35474630702192034,\"indigenous ,Republic ,Cuban ,Brazilian ,sovereignty ,military \",\"measure ,entire ,Venezuelan ,women ,message ,meet \",\"Muslims ,Kashmir ,Islam ,Muslim ,Zealand ,happen \"],[-8.289141291057076,\"CLUSTER 7\",0.35474630702192034,\"indigenous ,Republic ,Cuban ,Brazilian ,sovereignty ,military \",\"measure ,entire ,Venezuelan ,women ,message ,meet \",\"Muslims ,Kashmir ,Islam ,Muslim ,Zealand ,happen \"],[-8.289141291057076,\"CLUSTER 7\",0.35474630702192034,\"indigenous ,Republic ,Cuban ,Brazilian ,sovereignty ,military \",\"measure ,entire ,Venezuelan ,women ,message ,meet \",\"Muslims ,Kashmir ,Islam ,Muslim ,Zealand ,happen \"],[-8.289141291057076,\"CLUSTER 7\",0.35474630702192034,\"indigenous ,Republic ,Cuban ,Brazilian ,sovereignty ,military \",\"measure ,entire ,Venezuelan ,women ,message ,meet \",\"Muslims ,Kashmir ,Islam ,Muslim ,Zealand ,happen \"]],\"geo\":\"geo\",\"hovertemplate\":\"Discussion Topics=Muslims ,Kashmir ,measure ,indigenous ,entire ,Republic <br>ISO Code=%{location}<br>Perplexity Score=%{customdata[0]}<br>index=%{customdata[1]}<br>Coherence Score=%{customdata[2]}<br>Major Topics 1=%{customdata[3]}<br>Major Topics 2=%{customdata[4]}<br>Major Topics 3=%{customdata[5]}<extra></extra>\",\"locations\":[\"BRA\",\"COL\",\"CUB\",\"EU\",\"GBR\",\"GTM\",\"IND\",\"JPN\",\"NZL\",\"PAK\",\"PAN\",\"PRK\",\"SLV\",\"UKR\",\"USA\",\"VEN\"],\"name\":\"Muslims ,Kashmir ,measure ,indigenous ,entire ,Republic \",\"showlegend\":true,\"showscale\":false,\"z\":[1,1,1,1,1,1,1,1,1,1,1,1,1,1,1,1],\"type\":\"choropleth\"},{\"colorscale\":[[0.0,\"#F8A19F\"],[1.0,\"#F8A19F\"]],\"customdata\":[[-7.767795850399842,\"CLUSTER 12\",0.3572248478354692,\"talk ,sustainability ,Council ,process ,women ,disarmament \",\"develop ,Africa ,problems ,current ,market ,region \",\"fight ,know ,drug ,crime ,State ,interference \"],[-7.767795850399842,\"CLUSTER 12\",0.3572248478354692,\"talk ,sustainability ,Council ,process ,women ,disarmament \",\"develop ,Africa ,problems ,current ,market ,region \",\"fight ,know ,drug ,crime ,State ,interference \"],[-7.767795850399842,\"CLUSTER 12\",0.3572248478354692,\"talk ,sustainability ,Council ,process ,women ,disarmament \",\"develop ,Africa ,problems ,current ,market ,region \",\"fight ,know ,drug ,crime ,State ,interference \"],[-7.767795850399842,\"CLUSTER 12\",0.3572248478354692,\"talk ,sustainability ,Council ,process ,women ,disarmament \",\"develop ,Africa ,problems ,current ,market ,region \",\"fight ,know ,drug ,crime ,State ,interference \"],[-7.767795850399842,\"CLUSTER 12\",0.3572248478354692,\"talk ,sustainability ,Council ,process ,women ,disarmament \",\"develop ,Africa ,problems ,current ,market ,region \",\"fight ,know ,drug ,crime ,State ,interference \"],[-7.767795850399842,\"CLUSTER 12\",0.3572248478354692,\"talk ,sustainability ,Council ,process ,women ,disarmament \",\"develop ,Africa ,problems ,current ,market ,region \",\"fight ,know ,drug ,crime ,State ,interference \"],[-7.767795850399842,\"CLUSTER 12\",0.3572248478354692,\"talk ,sustainability ,Council ,process ,women ,disarmament \",\"develop ,Africa ,problems ,current ,market ,region \",\"fight ,know ,drug ,crime ,State ,interference \"]],\"geo\":\"geo\",\"hovertemplate\":\"Discussion Topics=know ,talk ,fight ,develop ,sustainability ,Africa <br>ISO Code=%{location}<br>Perplexity Score=%{customdata[0]}<br>index=%{customdata[1]}<br>Coherence Score=%{customdata[2]}<br>Major Topics 1=%{customdata[3]}<br>Major Topics 2=%{customdata[4]}<br>Major Topics 3=%{customdata[5]}<extra></extra>\",\"locations\":[\"BRN\",\"DEU\",\"ERI\",\"KHM\",\"PHL\",\"SGP\",\"THA\"],\"name\":\"know ,talk ,fight ,develop ,sustainability ,Africa \",\"showlegend\":true,\"showscale\":false,\"z\":[1,1,1,1,1,1,1],\"type\":\"choropleth\"},{\"colorscale\":[[0.0,\"#90AD1C\"],[1.0,\"#90AD1C\"]],\"customdata\":[[-7.592075454734018,\"CLUSTER 11\",0.38319899103750793,\"Gabon ,threats ,weapons ,sign ,recovery ,greater \",\"create ,Summit ,SDGs ,Libyan ,establish ,north-west \",\"Gabon ,greater ,finance ,expectations ,threats ,Ondimba \"],[-7.592075454734018,\"CLUSTER 11\",0.38319899103750793,\"Gabon ,threats ,weapons ,sign ,recovery ,greater \",\"create ,Summit ,SDGs ,Libyan ,establish ,north-west \",\"Gabon ,greater ,finance ,expectations ,threats ,Ondimba \"],[-7.592075454734018,\"CLUSTER 11\",0.38319899103750793,\"Gabon ,threats ,weapons ,sign ,recovery ,greater \",\"create ,Summit ,SDGs ,Libyan ,establish ,north-west \",\"Gabon ,greater ,finance ,expectations ,threats ,Ondimba \"],[-7.592075454734018,\"CLUSTER 11\",0.38319899103750793,\"Gabon ,threats ,weapons ,sign ,recovery ,greater \",\"create ,Summit ,SDGs ,Libyan ,establish ,north-west \",\"Gabon ,greater ,finance ,expectations ,threats ,Ondimba \"],[-7.592075454734018,\"CLUSTER 11\",0.38319899103750793,\"Gabon ,threats ,weapons ,sign ,recovery ,greater \",\"create ,Summit ,SDGs ,Libyan ,establish ,north-west \",\"Gabon ,greater ,finance ,expectations ,threats ,Ondimba \"]],\"geo\":\"geo\",\"hovertemplate\":\"Discussion Topics=Gabon ,Summit ,greater ,create ,threats <br>ISO Code=%{location}<br>Perplexity Score=%{customdata[0]}<br>index=%{customdata[1]}<br>Coherence Score=%{customdata[2]}<br>Major Topics 1=%{customdata[3]}<br>Major Topics 2=%{customdata[4]}<br>Major Topics 3=%{customdata[5]}<extra></extra>\",\"locations\":[\"CAF\",\"CMR\",\"GAB\",\"NER\",\"TCD\"],\"name\":\"Gabon ,Summit ,greater ,create ,threats \",\"showlegend\":true,\"showscale\":false,\"z\":[1,1,1,1,1],\"type\":\"choropleth\"},{\"colorscale\":[[0.0,\"#F6222E\"],[1.0,\"#F6222E\"]],\"customdata\":[[-7.746807321156391,\"CLUSTER 8\",0.35085286318121206,\"course ,life ,water ,occupation ,education ,trade \",\"courage ,agenda ,region ,subject ,institutions ,fund \",\"care ,nations ,globally ,ready ,benefit ,Security \"],[-7.746807321156391,\"CLUSTER 8\",0.35085286318121206,\"course ,life ,water ,occupation ,education ,trade \",\"courage ,agenda ,region ,subject ,institutions ,fund \",\"care ,nations ,globally ,ready ,benefit ,Security \"],[-7.746807321156391,\"CLUSTER 8\",0.35085286318121206,\"course ,life ,water ,occupation ,education ,trade \",\"courage ,agenda ,region ,subject ,institutions ,fund \",\"care ,nations ,globally ,ready ,benefit ,Security \"],[-7.746807321156391,\"CLUSTER 8\",0.35085286318121206,\"course ,life ,water ,occupation ,education ,trade \",\"courage ,agenda ,region ,subject ,institutions ,fund \",\"care ,nations ,globally ,ready ,benefit ,Security \"],[-7.746807321156391,\"CLUSTER 8\",0.35085286318121206,\"course ,life ,water ,occupation ,education ,trade \",\"courage ,agenda ,region ,subject ,institutions ,fund \",\"care ,nations ,globally ,ready ,benefit ,Security \"],[-7.746807321156391,\"CLUSTER 8\",0.35085286318121206,\"course ,life ,water ,occupation ,education ,trade \",\"courage ,agenda ,region ,subject ,institutions ,fund \",\"care ,nations ,globally ,ready ,benefit ,Security \"],[-7.746807321156391,\"CLUSTER 8\",0.35085286318121206,\"course ,life ,water ,occupation ,education ,trade \",\"courage ,agenda ,region ,subject ,institutions ,fund \",\"care ,nations ,globally ,ready ,benefit ,Security \"]],\"geo\":\"geo\",\"hovertemplate\":\"Discussion Topics=course ,courage ,life ,nations ,care ,agenda <br>ISO Code=%{location}<br>Perplexity Score=%{customdata[0]}<br>index=%{customdata[1]}<br>Coherence Score=%{customdata[2]}<br>Major Topics 1=%{customdata[3]}<br>Major Topics 2=%{customdata[4]}<br>Major Topics 3=%{customdata[5]}<extra></extra>\",\"locations\":[\"CHL\",\"EST\",\"FIN\",\"FRA\",\"GEO\",\"HND\",\"SVK\"],\"name\":\"course ,courage ,life ,nations ,care ,agenda \",\"showlegend\":true,\"showscale\":false,\"z\":[1,1,1,1,1,1,1],\"type\":\"choropleth\"}],                        {\"template\":{\"data\":{\"histogram2dcontour\":[{\"type\":\"histogram2dcontour\",\"colorbar\":{\"outlinewidth\":0,\"ticks\":\"\"},\"colorscale\":[[0.0,\"#0d0887\"],[0.1111111111111111,\"#46039f\"],[0.2222222222222222,\"#7201a8\"],[0.3333333333333333,\"#9c179e\"],[0.4444444444444444,\"#bd3786\"],[0.5555555555555556,\"#d8576b\"],[0.6666666666666666,\"#ed7953\"],[0.7777777777777778,\"#fb9f3a\"],[0.8888888888888888,\"#fdca26\"],[1.0,\"#f0f921\"]]}],\"choropleth\":[{\"type\":\"choropleth\",\"colorbar\":{\"outlinewidth\":0,\"ticks\":\"\"}}],\"histogram2d\":[{\"type\":\"histogram2d\",\"colorbar\":{\"outlinewidth\":0,\"ticks\":\"\"},\"colorscale\":[[0.0,\"#0d0887\"],[0.1111111111111111,\"#46039f\"],[0.2222222222222222,\"#7201a8\"],[0.3333333333333333,\"#9c179e\"],[0.4444444444444444,\"#bd3786\"],[0.5555555555555556,\"#d8576b\"],[0.6666666666666666,\"#ed7953\"],[0.7777777777777778,\"#fb9f3a\"],[0.8888888888888888,\"#fdca26\"],[1.0,\"#f0f921\"]]}],\"heatmap\":[{\"type\":\"heatmap\",\"colorbar\":{\"outlinewidth\":0,\"ticks\":\"\"},\"colorscale\":[[0.0,\"#0d0887\"],[0.1111111111111111,\"#46039f\"],[0.2222222222222222,\"#7201a8\"],[0.3333333333333333,\"#9c179e\"],[0.4444444444444444,\"#bd3786\"],[0.5555555555555556,\"#d8576b\"],[0.6666666666666666,\"#ed7953\"],[0.7777777777777778,\"#fb9f3a\"],[0.8888888888888888,\"#fdca26\"],[1.0,\"#f0f921\"]]}],\"heatmapgl\":[{\"type\":\"heatmapgl\",\"colorbar\":{\"outlinewidth\":0,\"ticks\":\"\"},\"colorscale\":[[0.0,\"#0d0887\"],[0.1111111111111111,\"#46039f\"],[0.2222222222222222,\"#7201a8\"],[0.3333333333333333,\"#9c179e\"],[0.4444444444444444,\"#bd3786\"],[0.5555555555555556,\"#d8576b\"],[0.6666666666666666,\"#ed7953\"],[0.7777777777777778,\"#fb9f3a\"],[0.8888888888888888,\"#fdca26\"],[1.0,\"#f0f921\"]]}],\"contourcarpet\":[{\"type\":\"contourcarpet\",\"colorbar\":{\"outlinewidth\":0,\"ticks\":\"\"}}],\"contour\":[{\"type\":\"contour\",\"colorbar\":{\"outlinewidth\":0,\"ticks\":\"\"},\"colorscale\":[[0.0,\"#0d0887\"],[0.1111111111111111,\"#46039f\"],[0.2222222222222222,\"#7201a8\"],[0.3333333333333333,\"#9c179e\"],[0.4444444444444444,\"#bd3786\"],[0.5555555555555556,\"#d8576b\"],[0.6666666666666666,\"#ed7953\"],[0.7777777777777778,\"#fb9f3a\"],[0.8888888888888888,\"#fdca26\"],[1.0,\"#f0f921\"]]}],\"surface\":[{\"type\":\"surface\",\"colorbar\":{\"outlinewidth\":0,\"ticks\":\"\"},\"colorscale\":[[0.0,\"#0d0887\"],[0.1111111111111111,\"#46039f\"],[0.2222222222222222,\"#7201a8\"],[0.3333333333333333,\"#9c179e\"],[0.4444444444444444,\"#bd3786\"],[0.5555555555555556,\"#d8576b\"],[0.6666666666666666,\"#ed7953\"],[0.7777777777777778,\"#fb9f3a\"],[0.8888888888888888,\"#fdca26\"],[1.0,\"#f0f921\"]]}],\"mesh3d\":[{\"type\":\"mesh3d\",\"colorbar\":{\"outlinewidth\":0,\"ticks\":\"\"}}],\"scatter\":[{\"fillpattern\":{\"fillmode\":\"overlay\",\"size\":10,\"solidity\":0.2},\"type\":\"scatter\"}],\"parcoords\":[{\"type\":\"parcoords\",\"line\":{\"colorbar\":{\"outlinewidth\":0,\"ticks\":\"\"}}}],\"scatterpolargl\":[{\"type\":\"scatterpolargl\",\"marker\":{\"colorbar\":{\"outlinewidth\":0,\"ticks\":\"\"}}}],\"bar\":[{\"error_x\":{\"color\":\"#2a3f5f\"},\"error_y\":{\"color\":\"#2a3f5f\"},\"marker\":{\"line\":{\"color\":\"#E5ECF6\",\"width\":0.5},\"pattern\":{\"fillmode\":\"overlay\",\"size\":10,\"solidity\":0.2}},\"type\":\"bar\"}],\"scattergeo\":[{\"type\":\"scattergeo\",\"marker\":{\"colorbar\":{\"outlinewidth\":0,\"ticks\":\"\"}}}],\"scatterpolar\":[{\"type\":\"scatterpolar\",\"marker\":{\"colorbar\":{\"outlinewidth\":0,\"ticks\":\"\"}}}],\"histogram\":[{\"marker\":{\"pattern\":{\"fillmode\":\"overlay\",\"size\":10,\"solidity\":0.2}},\"type\":\"histogram\"}],\"scattergl\":[{\"type\":\"scattergl\",\"marker\":{\"colorbar\":{\"outlinewidth\":0,\"ticks\":\"\"}}}],\"scatter3d\":[{\"type\":\"scatter3d\",\"line\":{\"colorbar\":{\"outlinewidth\":0,\"ticks\":\"\"}},\"marker\":{\"colorbar\":{\"outlinewidth\":0,\"ticks\":\"\"}}}],\"scattermapbox\":[{\"type\":\"scattermapbox\",\"marker\":{\"colorbar\":{\"outlinewidth\":0,\"ticks\":\"\"}}}],\"scatterternary\":[{\"type\":\"scatterternary\",\"marker\":{\"colorbar\":{\"outlinewidth\":0,\"ticks\":\"\"}}}],\"scattercarpet\":[{\"type\":\"scattercarpet\",\"marker\":{\"colorbar\":{\"outlinewidth\":0,\"ticks\":\"\"}}}],\"carpet\":[{\"aaxis\":{\"endlinecolor\":\"#2a3f5f\",\"gridcolor\":\"white\",\"linecolor\":\"white\",\"minorgridcolor\":\"white\",\"startlinecolor\":\"#2a3f5f\"},\"baxis\":{\"endlinecolor\":\"#2a3f5f\",\"gridcolor\":\"white\",\"linecolor\":\"white\",\"minorgridcolor\":\"white\",\"startlinecolor\":\"#2a3f5f\"},\"type\":\"carpet\"}],\"table\":[{\"cells\":{\"fill\":{\"color\":\"#EBF0F8\"},\"line\":{\"color\":\"white\"}},\"header\":{\"fill\":{\"color\":\"#C8D4E3\"},\"line\":{\"color\":\"white\"}},\"type\":\"table\"}],\"barpolar\":[{\"marker\":{\"line\":{\"color\":\"#E5ECF6\",\"width\":0.5},\"pattern\":{\"fillmode\":\"overlay\",\"size\":10,\"solidity\":0.2}},\"type\":\"barpolar\"}],\"pie\":[{\"automargin\":true,\"type\":\"pie\"}]},\"layout\":{\"autotypenumbers\":\"strict\",\"colorway\":[\"#636efa\",\"#EF553B\",\"#00cc96\",\"#ab63fa\",\"#FFA15A\",\"#19d3f3\",\"#FF6692\",\"#B6E880\",\"#FF97FF\",\"#FECB52\"],\"font\":{\"color\":\"#2a3f5f\"},\"hovermode\":\"closest\",\"hoverlabel\":{\"align\":\"left\"},\"paper_bgcolor\":\"white\",\"plot_bgcolor\":\"#E5ECF6\",\"polar\":{\"bgcolor\":\"#E5ECF6\",\"angularaxis\":{\"gridcolor\":\"white\",\"linecolor\":\"white\",\"ticks\":\"\"},\"radialaxis\":{\"gridcolor\":\"white\",\"linecolor\":\"white\",\"ticks\":\"\"}},\"ternary\":{\"bgcolor\":\"#E5ECF6\",\"aaxis\":{\"gridcolor\":\"white\",\"linecolor\":\"white\",\"ticks\":\"\"},\"baxis\":{\"gridcolor\":\"white\",\"linecolor\":\"white\",\"ticks\":\"\"},\"caxis\":{\"gridcolor\":\"white\",\"linecolor\":\"white\",\"ticks\":\"\"}},\"coloraxis\":{\"colorbar\":{\"outlinewidth\":0,\"ticks\":\"\"}},\"colorscale\":{\"sequential\":[[0.0,\"#0d0887\"],[0.1111111111111111,\"#46039f\"],[0.2222222222222222,\"#7201a8\"],[0.3333333333333333,\"#9c179e\"],[0.4444444444444444,\"#bd3786\"],[0.5555555555555556,\"#d8576b\"],[0.6666666666666666,\"#ed7953\"],[0.7777777777777778,\"#fb9f3a\"],[0.8888888888888888,\"#fdca26\"],[1.0,\"#f0f921\"]],\"sequentialminus\":[[0.0,\"#0d0887\"],[0.1111111111111111,\"#46039f\"],[0.2222222222222222,\"#7201a8\"],[0.3333333333333333,\"#9c179e\"],[0.4444444444444444,\"#bd3786\"],[0.5555555555555556,\"#d8576b\"],[0.6666666666666666,\"#ed7953\"],[0.7777777777777778,\"#fb9f3a\"],[0.8888888888888888,\"#fdca26\"],[1.0,\"#f0f921\"]],\"diverging\":[[0,\"#8e0152\"],[0.1,\"#c51b7d\"],[0.2,\"#de77ae\"],[0.3,\"#f1b6da\"],[0.4,\"#fde0ef\"],[0.5,\"#f7f7f7\"],[0.6,\"#e6f5d0\"],[0.7,\"#b8e186\"],[0.8,\"#7fbc41\"],[0.9,\"#4d9221\"],[1,\"#276419\"]]},\"xaxis\":{\"gridcolor\":\"white\",\"linecolor\":\"white\",\"ticks\":\"\",\"title\":{\"standoff\":15},\"zerolinecolor\":\"white\",\"automargin\":true,\"zerolinewidth\":2},\"yaxis\":{\"gridcolor\":\"white\",\"linecolor\":\"white\",\"ticks\":\"\",\"title\":{\"standoff\":15},\"zerolinecolor\":\"white\",\"automargin\":true,\"zerolinewidth\":2},\"scene\":{\"xaxis\":{\"backgroundcolor\":\"#E5ECF6\",\"gridcolor\":\"white\",\"linecolor\":\"white\",\"showbackground\":true,\"ticks\":\"\",\"zerolinecolor\":\"white\",\"gridwidth\":2},\"yaxis\":{\"backgroundcolor\":\"#E5ECF6\",\"gridcolor\":\"white\",\"linecolor\":\"white\",\"showbackground\":true,\"ticks\":\"\",\"zerolinecolor\":\"white\",\"gridwidth\":2},\"zaxis\":{\"backgroundcolor\":\"#E5ECF6\",\"gridcolor\":\"white\",\"linecolor\":\"white\",\"showbackground\":true,\"ticks\":\"\",\"zerolinecolor\":\"white\",\"gridwidth\":2}},\"shapedefaults\":{\"line\":{\"color\":\"#2a3f5f\"}},\"annotationdefaults\":{\"arrowcolor\":\"#2a3f5f\",\"arrowhead\":0,\"arrowwidth\":1},\"geo\":{\"bgcolor\":\"white\",\"landcolor\":\"#E5ECF6\",\"subunitcolor\":\"white\",\"showland\":true,\"showlakes\":true,\"lakecolor\":\"white\"},\"title\":{\"x\":0.05},\"mapbox\":{\"style\":\"light\"}}},\"geo\":{\"domain\":{\"x\":[0.0,1.0],\"y\":[0.0,1.0]},\"center\":{}},\"legend\":{\"title\":{\"text\":\"Discussion Topics\"},\"tracegroupgap\":0},\"title\":{\"text\":\"Major Topics in 2019 UNGA Speeches\"},\"height\":700,\"width\":1300},                        {\"responsive\": true}                    ).then(function(){\n",
       "                            \n",
       "var gd = document.getElementById('e4eb9115-8d8c-4614-92f0-44dbf006d6b6');\n",
       "var x = new MutationObserver(function (mutations, observer) {{\n",
       "        var display = window.getComputedStyle(gd).display;\n",
       "        if (!display || display === 'none') {{\n",
       "            console.log([gd, 'removed!']);\n",
       "            Plotly.purge(gd);\n",
       "            observer.disconnect();\n",
       "        }}\n",
       "}});\n",
       "\n",
       "// Listen for the removal of the full notebook cells\n",
       "var notebookContainer = gd.closest('#notebook-container');\n",
       "if (notebookContainer) {{\n",
       "    x.observe(notebookContainer, {childList: true});\n",
       "}}\n",
       "\n",
       "// Listen for the clearing of the current output cell\n",
       "var outputEl = gd.closest('.output');\n",
       "if (outputEl) {{\n",
       "    x.observe(outputEl, {childList: true});\n",
       "}}\n",
       "\n",
       "                        })                };                });            </script>        </div>"
      ]
     },
     "metadata": {},
     "output_type": "display_data"
    }
   ],
   "source": [
    "fig = px.choropleth(output, locations=\"ISO Code\",\n",
    "                    color=\"Discussion Topics\", # lifeExp is a column of gapminder\n",
    "                    hover_data=[\"Perplexity Score\",'index','Coherence Score',\"Major Topics 1\",\"Major Topics 2\",\"Major Topics 3\"] # column to add to hover information\n",
    ",width=1300,height=700,color_discrete_sequence=color_seq,title=\"Major Topics in 2019 UNGA Speeches\")\n",
    "fig.show()"
   ]
  },
  {
   "cell_type": "code",
   "execution_count": 100,
   "metadata": {},
   "outputs": [],
   "source": [
    "fig.write_html(\"speechs_2019_worldmap with topics.html\")"
   ]
  },
  {
   "cell_type": "code",
   "execution_count": 101,
   "metadata": {},
   "outputs": [],
   "source": [
    "output['year']=2019"
   ]
  },
  {
   "cell_type": "code",
   "execution_count": 102,
   "metadata": {},
   "outputs": [],
   "source": [
    "output.to_json(\"cluster_2019.json\",orient='records',compression='infer')"
   ]
  },
  {
   "cell_type": "code",
   "execution_count": 103,
   "metadata": {},
   "outputs": [],
   "source": [
    "output\n",
    "measures=output[['index','Coherence Score','Perplexity Score']].groupby('index').mean()"
   ]
  },
  {
   "cell_type": "code",
   "execution_count": 104,
   "metadata": {},
   "outputs": [],
   "source": [
    "measures=measures.reset_index()"
   ]
  },
  {
   "cell_type": "code",
   "execution_count": 105,
   "metadata": {},
   "outputs": [],
   "source": [
    "from matplotlib import pyplot as plt"
   ]
  },
  {
   "cell_type": "code",
   "execution_count": 106,
   "metadata": {},
   "outputs": [
    {
     "data": {
      "image/png": "[encoded data removed]",
      "text/plain": [
       "<Figure size 1080x720 with 1 Axes>"
      ]
     },
     "metadata": {
      "needs_background": "light"
     },
     "output_type": "display_data"
    }
   ],
   "source": [
    "plt.figure(figsize=(15,10))\n",
    "plt.bar(measures['index'], measures['Coherence Score'])\n",
    "plt.xticks(rotation = 45)\n",
    "# Show Plot\n",
    "plt.xlabel(\"Clusters of Countries\")\n",
    "plt.ylabel(\"Coherence\")\n",
    "plt.title(\"Coherence of Each Country Cluster for 2019\")\n",
    "plt.show()\n"
   ]
  },
  {
   "cell_type": "code",
   "execution_count": 107,
   "metadata": {},
   "outputs": [
    {
     "data": {
      "image/png": "[encoded data removed]",
      "text/plain": [
       "<Figure size 1080x720 with 1 Axes>"
      ]
     },
     "metadata": {
      "needs_background": "light"
     },
     "output_type": "display_data"
    }
   ],
   "source": [
    "plt.figure(figsize=(15,10))\n",
    "plt.bar(measures['index'], measures['Perplexity Score'])\n",
    "plt.xticks(rotation = 45)\n",
    "# Show Plot\n",
    "plt.xlabel(\"Clusters of Countries\")\n",
    "plt.ylabel(\"Perplexity Score\")\n",
    "plt.title(\"Perplexity Score of Each Country Cluster for 2019\")\n",
    "plt.show()\n"
   ]
  },
  {
   "cell_type": "code",
   "execution_count": null,
   "metadata": {},
   "outputs": [],
   "source": []
  }
 ],
 "metadata": {
  "kernelspec": {
   "display_name": "Python 3",
   "language": "python",
   "name": "python3"
  },
  "language_info": {
   "codemirror_mode": {
    "name": "ipython",
    "version": 3
   },
   "file_extension": ".py",
   "mimetype": "text/x-python",
   "name": "python",
   "nbconvert_exporter": "python",
   "pygments_lexer": "ipython3",
   "version": "3.8.3"
  }
 },
 "nbformat": 4,
 "nbformat_minor": 4
}
